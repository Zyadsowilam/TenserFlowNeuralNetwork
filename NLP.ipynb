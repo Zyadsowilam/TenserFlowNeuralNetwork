{
  "nbformat": 4,
  "nbformat_minor": 0,
  "metadata": {
    "colab": {
      "provenance": [],
      "gpuType": "T4"
    },
    "kernelspec": {
      "name": "python3",
      "display_name": "Python 3"
    },
    "language_info": {
      "name": "python"
    },
    "accelerator": "GPU"
  },
  "cells": [
    {
      "cell_type": "markdown",
      "source": [
        "##Encoding Text\n",
        "\n",
        "```I thought the movie was going to be bad, but it was actually amazing!```\n",
        "\n",
        "```I thought the movie was going to be amazing, but it was actually bad!```\n",
        "\n",
        "###Bag of Words\n",
        " This is a pretty easy technique where each word in a sentence is encoded with an integer and thrown into a collection that does not maintain the order of the words but does keep track of the frequency.NO sequence here"
      ],
      "metadata": {
        "id": "h9U68z1N0Rjv"
      }
    },
    {
      "cell_type": "code",
      "execution_count": null,
      "metadata": {
        "colab": {
          "base_uri": "https://localhost:8080/"
        },
        "id": "WJ--0fIcxg2K",
        "outputId": "370887a7-b123-45bb-f10d-c4047e7091fd"
      },
      "outputs": [
        {
          "output_type": "stream",
          "name": "stdout",
          "text": [
            "Positive: {1: 1, 2: 1, 3: 1, 4: 1, 5: 2, 6: 1, 7: 1, 8: 1, 9: 1, 10: 1, 11: 1, 12: 1, 13: 1}\n",
            "Negative: {1: 1, 2: 1, 3: 1, 4: 1, 5: 2, 6: 1, 7: 1, 8: 1, 13: 1, 10: 1, 11: 1, 12: 1, 9: 1}\n"
          ]
        }
      ],
      "source": [
        "vocab = {}  # maps word to integer representing it\n",
        "word_encoding = 1\n",
        "def bag_of_words(text):\n",
        "  global word_encoding\n",
        "\n",
        "  words = text.lower().split(\" \")  # create a list of all of the words in the text, well assume there is no grammar in our text for this example\n",
        "  bag = {}  # stores all of the encodings and their frequency\n",
        "\n",
        "  for word in words:\n",
        "    if word in vocab:\n",
        "      encoding = vocab[word]  # get encoding from vocab\n",
        "    else:\n",
        "      vocab[word] = word_encoding\n",
        "      encoding = word_encoding\n",
        "      word_encoding += 1\n",
        "\n",
        "    if encoding in bag:\n",
        "      bag[encoding] += 1\n",
        "    else:\n",
        "      bag[encoding] = 1\n",
        "\n",
        "  return bag\n",
        "\n",
        "positive_review = \"I thought the movie was going to be bad but it was actually amazing\"\n",
        "negative_review = \"I thought the movie was going to be amazing but it was actually bad\"\n",
        "\n",
        "pos_bag = bag_of_words(positive_review)\n",
        "neg_bag = bag_of_words(negative_review)\n",
        "\n",
        "print(\"Positive:\", pos_bag)\n",
        "print(\"Negative:\", neg_bag)"
      ]
    },
    {
      "cell_type": "markdown",
      "source": [
        "###Integer Encoding\n",
        "The next technique we will look at is called **integer encoding**. This involves representing each word or character in a sentence as a unique integer and maintaining the order of these words. This should hopefully fix the problem we saw before were we lost the order of words.\n"
      ],
      "metadata": {
        "id": "WtZu6zyu7Zf7"
      }
    },
    {
      "cell_type": "code",
      "source": [
        "vocab = {}\n",
        "word_encoding = 1\n",
        "def one_hot_encoding(text):\n",
        "  global word_encoding\n",
        "\n",
        "  words = text.lower().split(\" \")\n",
        "  encoding = []\n",
        "\n",
        "  for word in words:\n",
        "    if word in vocab:\n",
        "      code = vocab[word]\n",
        "      encoding.append(code)\n",
        "    else:\n",
        "      vocab[word] = word_encoding\n",
        "      encoding.append(word_encoding)\n",
        "      word_encoding += 1\n",
        "\n",
        "  return encoding\n",
        "positive_review = \"I thought the movie was going to be bad but it was actually amazing\"\n",
        "negative_review = \"I thought the movie was going to be amazing but it was actually bad\"\n",
        "\n",
        "pos_encode = one_hot_encoding(positive_review)\n",
        "neg_encode = one_hot_encoding(negative_review)\n",
        "\n",
        "print(\"Positive:\", pos_encode)\n",
        "print(\"Negative:\", neg_encode)"
      ],
      "metadata": {
        "colab": {
          "base_uri": "https://localhost:8080/"
        },
        "id": "dDIufar-7JRb",
        "outputId": "fb7bec96-154a-4b53-b15f-a6530e687903"
      },
      "execution_count": null,
      "outputs": [
        {
          "output_type": "stream",
          "name": "stdout",
          "text": [
            "Positive: [1, 2, 3, 4, 5, 6, 7, 8, 9, 10, 11, 5, 12, 13]\n",
            "Negative: [1, 2, 3, 4, 5, 6, 7, 8, 13, 10, 11, 5, 12, 9]\n"
          ]
        }
      ]
    },
    {
      "cell_type": "code",
      "source": [],
      "metadata": {
        "id": "hI-IcUOK7Ra7"
      },
      "execution_count": null,
      "outputs": []
    },
    {
      "cell_type": "markdown",
      "source": [
        "###Word Embeddings\n",
        "Luckily there is a third method that is far superior, **word embeddings**. This method keeps the order of words intact as well as encodes similar words with very similar labels. It attempts to not only encode the frequency and order of words but the meaning of those words in the sentence. It encodes each word as a dense vector that represents its context in the sentence.\n"
      ],
      "metadata": {
        "id": "7JE7xq1o0Q7Q"
      }
    },
    {
      "cell_type": "markdown",
      "source": [
        "##Recurrent Neural Networks (RNN's)\n",
        " All our data is fed forwards (all at once) from left to right through the network. This was fine for the problems we considered before but won't work very well for processing text. After all, even we (humans) don't process text all at once. We read word by word from left to right and keep track of the current meaning of the sentence so we can understand the meaning of the next word. Well this is exaclty what a recurrent neural network is designed to do. When we say recurrent neural network all we really mean is a network that contains a loop. A RNN will process one word at a time while maintaining an internal memory of what it's already seen. This will allow it to treat words differently based on their order in a sentence and to slowly build an understanding of the entire input, one word at a time.\n",
        "\n",
        "This is why we are treating our text data as a sequence! So that we can pass one word at a time to the RNN.\n",
        "![alt text](https://colah.github.io/posts/2015-08-Understanding-LSTMs/img/RNN-unrolled.png)\n",
        "*Source: https://colah.github.io/posts/2015-08-Understanding-LSTMs/*\n",
        "\n",
        "Let's define what all these variables stand for before we get into the explination.\n",
        "\n",
        "**h<sub>t</sub>** output at time t\n",
        "\n",
        "**x<sub>t</sub>** input at time t\n",
        "\n",
        "**A** Recurrent Layer (loop)"
      ],
      "metadata": {
        "id": "pHLMfI9c7k2D"
      }
    },
    {
      "cell_type": "markdown",
      "source": [
        "##Sentiment Analysis\n",
        "\n",
        "\n",
        "*the process of computationally identifying and categorizing opinions expressed in a piece of text, especially in order to determine whether the writer's attitude towards a particular topic, product, etc. is positive, negative, or neutral.*"
      ],
      "metadata": {
        "id": "KdnzZpgxIxlv"
      }
    },
    {
      "cell_type": "code",
      "source": [
        "%tensorflow_version 2.x  # this line is not required unless you are in a notebook\n",
        "from keras.datasets import imdb\n",
        "from keras.preprocessing import sequence\n",
        "import keras\n",
        "import tensorflow as tf\n",
        "import os\n",
        "import numpy as np\n",
        "\n",
        "VOCAB_SIZE = 88584\n",
        "\n",
        "MAXLEN = 250\n",
        "BATCH_SIZE = 64\n",
        "\n",
        "(train_data, train_labels), (test_data, test_labels) = imdb.load_data(num_words = VOCAB_SIZE)\n",
        "train_data[1]\n",
        "#ADD PADDING TO REVIEW TO MAKE IT EQUAL 250 WORDS\n",
        "train_data = sequence.pad_sequences(train_data, MAXLEN)\n",
        "test_data = sequence.pad_sequences(test_data, MAXLEN)"
      ],
      "metadata": {
        "colab": {
          "base_uri": "https://localhost:8080/"
        },
        "id": "h8oHhpra7dBy",
        "outputId": "d8b0deda-e554-4061-b649-01499ca2fbb6"
      },
      "execution_count": 2,
      "outputs": [
        {
          "output_type": "stream",
          "name": "stdout",
          "text": [
            "Colab only includes TensorFlow 2.x; %tensorflow_version has no effect.\n",
            "Downloading data from https://storage.googleapis.com/tensorflow/tf-keras-datasets/imdb.npz\n",
            "17464789/17464789 [==============================] - 2s 0us/step\n"
          ]
        }
      ]
    },
    {
      "cell_type": "markdown",
      "source": [
        "# MODEL\n",
        "bedding layer as the first layer in our model and add a LSTM layer afterwards that feeds into a dense node to get our predicted sentiment.\n",
        "\n",
        "32 stands for the output dimension of the vectors generated by the embedding layer."
      ],
      "metadata": {
        "id": "OhF0pCz91IhB"
      }
    },
    {
      "cell_type": "code",
      "source": [
        "model = tf.keras.Sequential([\n",
        "    tf.keras.layers.Embedding(VOCAB_SIZE, 32),\n",
        "    tf.keras.layers.LSTM(32),\n",
        "    tf.keras.layers.Dense(1, activation=\"sigmoid\")\n",
        "])\n",
        "#sigmoid bec more than 0.5 consider as positive review while less consider as negative review\n",
        "model.summary()"
      ],
      "metadata": {
        "colab": {
          "base_uri": "https://localhost:8080/"
        },
        "id": "KrN6kCUqJBs3",
        "outputId": "79f2f583-a85e-4a8c-dd6e-fbf56708d33e"
      },
      "execution_count": 3,
      "outputs": [
        {
          "output_type": "stream",
          "name": "stdout",
          "text": [
            "Model: \"sequential\"\n",
            "_________________________________________________________________\n",
            " Layer (type)                Output Shape              Param #   \n",
            "=================================================================\n",
            " embedding (Embedding)       (None, None, 32)          2834688   \n",
            "                                                                 \n",
            " lstm (LSTM)                 (None, 32)                8320      \n",
            "                                                                 \n",
            " dense (Dense)               (None, 1)                 33        \n",
            "                                                                 \n",
            "=================================================================\n",
            "Total params: 2843041 (10.85 MB)\n",
            "Trainable params: 2843041 (10.85 MB)\n",
            "Non-trainable params: 0 (0.00 Byte)\n",
            "_________________________________________________________________\n"
          ]
        }
      ]
    },
    {
      "cell_type": "code",
      "source": [
        "model.compile(loss=\"binary_crossentropy\",optimizer=\"rmsprop\",metrics=['acc'])\n",
        "\n",
        "history = model.fit(train_data, train_labels, epochs=10, validation_split=0.2)\n",
        "results = model.evaluate(test_data, test_labels)\n",
        "print(results)"
      ],
      "metadata": {
        "colab": {
          "base_uri": "https://localhost:8080/"
        },
        "id": "rU7mkinkJIjp",
        "outputId": "a0ad28c8-b270-42a8-8248-6b4a8170edd2"
      },
      "execution_count": 4,
      "outputs": [
        {
          "output_type": "stream",
          "name": "stdout",
          "text": [
            "Epoch 1/10\n",
            "625/625 [==============================] - 49s 73ms/step - loss: 0.4522 - acc: 0.7743 - val_loss: 0.4837 - val_acc: 0.8306\n",
            "Epoch 2/10\n",
            "625/625 [==============================] - 20s 31ms/step - loss: 0.2591 - acc: 0.8995 - val_loss: 0.2881 - val_acc: 0.8824\n",
            "Epoch 3/10\n",
            "625/625 [==============================] - 12s 20ms/step - loss: 0.2000 - acc: 0.9269 - val_loss: 0.2963 - val_acc: 0.8784\n",
            "Epoch 4/10\n",
            "625/625 [==============================] - 13s 21ms/step - loss: 0.1625 - acc: 0.9423 - val_loss: 0.3168 - val_acc: 0.8850\n",
            "Epoch 5/10\n",
            "625/625 [==============================] - 10s 17ms/step - loss: 0.1328 - acc: 0.9534 - val_loss: 0.3825 - val_acc: 0.8766\n",
            "Epoch 6/10\n",
            "625/625 [==============================] - 9s 15ms/step - loss: 0.1123 - acc: 0.9627 - val_loss: 0.3246 - val_acc: 0.8764\n",
            "Epoch 7/10\n",
            "625/625 [==============================] - 9s 14ms/step - loss: 0.0911 - acc: 0.9704 - val_loss: 0.3968 - val_acc: 0.8656\n",
            "Epoch 8/10\n",
            "625/625 [==============================] - 9s 15ms/step - loss: 0.0778 - acc: 0.9740 - val_loss: 0.3827 - val_acc: 0.8836\n",
            "Epoch 9/10\n",
            "625/625 [==============================] - 8s 13ms/step - loss: 0.0644 - acc: 0.9804 - val_loss: 0.4068 - val_acc: 0.8772\n",
            "Epoch 10/10\n",
            "625/625 [==============================] - 9s 14ms/step - loss: 0.0552 - acc: 0.9820 - val_loss: 0.5022 - val_acc: 0.8718\n",
            "782/782 [==============================] - 5s 6ms/step - loss: 0.5559 - acc: 0.8558\n",
            "[0.5559477210044861, 0.8557599782943726]\n"
          ]
        }
      ]
    },
    {
      "cell_type": "code",
      "source": [
        "word_index = imdb.get_word_index()\n",
        "\n",
        "def encode_text(text):\n",
        "  tokens = keras.preprocessing.text.text_to_word_sequence(text)\n",
        "  tokens = [word_index[word] if word in word_index else 0 for word in tokens]\n",
        "  return sequence.pad_sequences([tokens], MAXLEN)[0]\n",
        "\n",
        "text = \"that movie was just amazing, so amazing\"\n",
        "encoded = encode_text(text)\n",
        "print(encoded)\n",
        "\n",
        "\n",
        "reverse_word_index = {value: key for (key, value) in word_index.items()}\n",
        "\n",
        "def decode_integers(integers):\n",
        "    PAD = 0\n",
        "    text = \"\"\n",
        "    for num in integers:\n",
        "      if num != PAD:\n",
        "        text += reverse_word_index[num] + \" \"\n",
        "\n",
        "    return text[:-1]\n",
        "\n",
        "print(decode_integers(encoded))"
      ],
      "metadata": {
        "colab": {
          "base_uri": "https://localhost:8080/"
        },
        "id": "YSFq2Vt2JOKY",
        "outputId": "c0d9c909-b2ae-49bd-819d-6240084cc182"
      },
      "execution_count": 5,
      "outputs": [
        {
          "output_type": "stream",
          "name": "stdout",
          "text": [
            "Downloading data from https://storage.googleapis.com/tensorflow/tf-keras-datasets/imdb_word_index.json\n",
            "1641221/1641221 [==============================] - 1s 1us/step\n",
            "[  0   0   0   0   0   0   0   0   0   0   0   0   0   0   0   0   0   0\n",
            "   0   0   0   0   0   0   0   0   0   0   0   0   0   0   0   0   0   0\n",
            "   0   0   0   0   0   0   0   0   0   0   0   0   0   0   0   0   0   0\n",
            "   0   0   0   0   0   0   0   0   0   0   0   0   0   0   0   0   0   0\n",
            "   0   0   0   0   0   0   0   0   0   0   0   0   0   0   0   0   0   0\n",
            "   0   0   0   0   0   0   0   0   0   0   0   0   0   0   0   0   0   0\n",
            "   0   0   0   0   0   0   0   0   0   0   0   0   0   0   0   0   0   0\n",
            "   0   0   0   0   0   0   0   0   0   0   0   0   0   0   0   0   0   0\n",
            "   0   0   0   0   0   0   0   0   0   0   0   0   0   0   0   0   0   0\n",
            "   0   0   0   0   0   0   0   0   0   0   0   0   0   0   0   0   0   0\n",
            "   0   0   0   0   0   0   0   0   0   0   0   0   0   0   0   0   0   0\n",
            "   0   0   0   0   0   0   0   0   0   0   0   0   0   0   0   0   0   0\n",
            "   0   0   0   0   0   0   0   0   0   0   0   0   0   0   0   0   0   0\n",
            "   0   0   0   0   0   0   0   0   0  12  17  13  40 477  35 477]\n",
            "that movie was just amazing so amazing\n"
          ]
        }
      ]
    },
    {
      "cell_type": "code",
      "source": [
        "\n",
        "def predict(text):\n",
        "  encoded_text = encode_text(text)\n",
        "  pred = np.zeros((1,250))\n",
        "  pred[0] = encoded_text\n",
        "  result = model.predict(pred)\n",
        "  print(result[0])\n",
        "\n",
        "positive_review = \"That movie was good! really loved it and would great watch it again because it was amazingly great\"\n",
        "predict(positive_review)\n",
        "\n",
        "negative_review = \"that movie really good.\"\n",
        "predict(negative_review)"
      ],
      "metadata": {
        "colab": {
          "base_uri": "https://localhost:8080/"
        },
        "id": "eiksh-DUJYhO",
        "outputId": "8d44cc5f-477f-4daf-f782-255ab81fa61a"
      },
      "execution_count": 6,
      "outputs": [
        {
          "output_type": "stream",
          "name": "stdout",
          "text": [
            "1/1 [==============================] - 0s 350ms/step\n",
            "[0.9795592]\n",
            "1/1 [==============================] - 0s 19ms/step\n",
            "[0.6932592]\n"
          ]
        }
      ]
    },
    {
      "cell_type": "markdown",
      "source": [
        "##RNN Play Generator\n"
      ],
      "metadata": {
        "id": "XBzDx-fmXvd1"
      }
    },
    {
      "cell_type": "markdown",
      "source": [],
      "metadata": {
        "id": "00rfA4uuXumt"
      }
    },
    {
      "cell_type": "code",
      "source": [
        "%tensorflow_version 2.x  # this line is not required unless you are in a notebook\n",
        "from keras.preprocessing import sequence\n",
        "import keras\n",
        "import tensorflow as tf\n",
        "import os\n",
        "import numpy as np\n",
        "path_to_file = tf.keras.utils.get_file('shakespeare.txt', 'https://storage.googleapis.com/download.tensorflow.org/data/shakespeare.txt')\n",
        "# to load your own\n",
        "# from google.colab import files\n",
        "# path_to_file = list(files.upload().keys())[0]\n",
        "text = open(path_to_file, 'rb').read().decode(encoding='utf-8')\n",
        "# length of text is the number of characters in it\n",
        "print ('Length of text: {} characters'.format(len(text)))\n",
        "print(text[:250])\n",
        "vocab = sorted(set(text))\n",
        "# Creating a mapping from unique characters to indices\n",
        "char2idx = {u:i for i, u in enumerate(vocab)}\n",
        "idx2char = np.array(vocab)\n",
        "\n",
        "def text_to_int(text):\n",
        "  return np.array([char2idx[c] for c in text])\n",
        "\n",
        "text_as_int = text_to_int(text)"
      ],
      "metadata": {
        "colab": {
          "base_uri": "https://localhost:8080/"
        },
        "id": "v5SA4PnIU-kg",
        "outputId": "23358028-285d-4390-c7be-ae3fe5052e6f"
      },
      "execution_count": 22,
      "outputs": [
        {
          "output_type": "stream",
          "name": "stdout",
          "text": [
            "Colab only includes TensorFlow 2.x; %tensorflow_version has no effect.\n",
            "Length of text: 1115394 characters\n",
            "First Citizen:\n",
            "Before we proceed any further, hear me speak.\n",
            "\n",
            "All:\n",
            "Speak, speak.\n",
            "\n",
            "First Citizen:\n",
            "You are all resolved rather to die than to famish?\n",
            "\n",
            "All:\n",
            "Resolved. resolved.\n",
            "\n",
            "First Citizen:\n",
            "First, you know Caius Marcius is chief enemy to the people.\n",
            "\n"
          ]
        }
      ]
    },
    {
      "cell_type": "code",
      "source": [
        "print(\"Text:\", text[:13])\n",
        "print(\"Encoded:\", text_to_int(text[:13]))\n",
        "def int_to_text(ints):\n",
        "  try:\n",
        "    ints = ints.numpy()\n",
        "  except:\n",
        "    pass\n",
        "  return ''.join(idx2char[ints])\n",
        "\n",
        "print(int_to_text(text_as_int[:13]))\n"
      ],
      "metadata": {
        "colab": {
          "base_uri": "https://localhost:8080/"
        },
        "id": "T4ZcjYMOYqrm",
        "outputId": "bca6459b-dfb3-43c6-f05e-54d29c3702c5"
      },
      "execution_count": 24,
      "outputs": [
        {
          "output_type": "stream",
          "name": "stdout",
          "text": [
            "Text: First Citizen\n",
            "Encoded: [18 47 56 57 58  1 15 47 58 47 64 43 52]\n",
            "First Citizen\n"
          ]
        }
      ]
    },
    {
      "cell_type": "code",
      "source": [
        "seq_length = 100  # length of sequence for a training example\n",
        "examples_per_epoch = len(text)//(seq_length+1)\n",
        "\n",
        "# Create training examples / targets\n",
        "char_dataset = tf.data.Dataset.from_tensor_slices(text_as_int)\n",
        "sequences = char_dataset.batch(seq_length+1, drop_remainder=True)\n",
        "def split_input_target(chunk):  # for the example: hello\n",
        "    input_text = chunk[:-1]  # hell\n",
        "    target_text = chunk[1:]  # ello\n",
        "    return input_text, target_text  # hell, ello\n",
        "\n",
        "dataset = sequences.map(split_input_target)  # we use map to apply the above function to every entry\n",
        "for x, y in dataset.take(2):\n",
        "  print(\"\\n\\nEXAMPLE\\n\")\n",
        "  print(\"INPUT\")\n",
        "  print(int_to_text(x))\n",
        "  print(\"\\nOUTPUT\")\n",
        "  print(int_to_text(y))"
      ],
      "metadata": {
        "id": "Nw33snEEZFnN",
        "colab": {
          "base_uri": "https://localhost:8080/"
        },
        "outputId": "b2267e08-f14b-4b80-b1c7-c8043c2f7c8b"
      },
      "execution_count": 25,
      "outputs": [
        {
          "output_type": "stream",
          "name": "stdout",
          "text": [
            "\n",
            "\n",
            "EXAMPLE\n",
            "\n",
            "INPUT\n",
            "First Citizen:\n",
            "Before we proceed any further, hear me speak.\n",
            "\n",
            "All:\n",
            "Speak, speak.\n",
            "\n",
            "First Citizen:\n",
            "You\n",
            "\n",
            "OUTPUT\n",
            "irst Citizen:\n",
            "Before we proceed any further, hear me speak.\n",
            "\n",
            "All:\n",
            "Speak, speak.\n",
            "\n",
            "First Citizen:\n",
            "You \n",
            "\n",
            "\n",
            "EXAMPLE\n",
            "\n",
            "INPUT\n",
            "are all resolved rather to die than to famish?\n",
            "\n",
            "All:\n",
            "Resolved. resolved.\n",
            "\n",
            "First Citizen:\n",
            "First, you \n",
            "\n",
            "OUTPUT\n",
            "re all resolved rather to die than to famish?\n",
            "\n",
            "All:\n",
            "Resolved. resolved.\n",
            "\n",
            "First Citizen:\n",
            "First, you k\n"
          ]
        }
      ]
    },
    {
      "cell_type": "code",
      "source": [
        "BATCH_SIZE = 64\n",
        "VOCAB_SIZE = len(vocab)  # vocab is number of unique characters\n",
        "EMBEDDING_DIM = 256\n",
        "RNN_UNITS = 1024\n",
        "\n",
        "# Buffer size to shuffle the dataset\n",
        "# (TF data is designed to work with possibly infinite sequences,\n",
        "# so it doesn't attempt to shuffle the entire sequence in memory. Instead,\n",
        "# it maintains a buffer in which it shuffles elements).\n",
        "BUFFER_SIZE = 10000\n",
        "\n",
        "data = dataset.shuffle(BUFFER_SIZE).batch(BATCH_SIZE, drop_remainder=True)\n",
        "def build_model(vocab_size, embedding_dim, rnn_units, batch_size):\n",
        "  model = tf.keras.Sequential([\n",
        "    tf.keras.layers.Embedding(vocab_size, embedding_dim,\n",
        "                              batch_input_shape=[batch_size, None]),\n",
        "    tf.keras.layers.LSTM(rnn_units,\n",
        "                        return_sequences=True,\n",
        "                        stateful=True,\n",
        "                        recurrent_initializer='glorot_uniform'),\n",
        "    tf.keras.layers.Dense(vocab_size)\n",
        "  ])\n",
        "  return model\n",
        "\n",
        "model = build_model(VOCAB_SIZE,EMBEDDING_DIM, RNN_UNITS, BATCH_SIZE)\n",
        "model.summary()"
      ],
      "metadata": {
        "colab": {
          "base_uri": "https://localhost:8080/"
        },
        "id": "hEsi2hDtfH0c",
        "outputId": "8524ca07-25c3-46b5-fa1f-be811c8efee1"
      },
      "execution_count": 26,
      "outputs": [
        {
          "output_type": "stream",
          "name": "stdout",
          "text": [
            "Model: \"sequential_3\"\n",
            "_________________________________________________________________\n",
            " Layer (type)                Output Shape              Param #   \n",
            "=================================================================\n",
            " embedding_3 (Embedding)     (64, None, 256)           16640     \n",
            "                                                                 \n",
            " lstm_3 (LSTM)               (64, None, 1024)          5246976   \n",
            "                                                                 \n",
            " dense_3 (Dense)             (64, None, 65)            66625     \n",
            "                                                                 \n",
            "=================================================================\n",
            "Total params: 5330241 (20.33 MB)\n",
            "Trainable params: 5330241 (20.33 MB)\n",
            "Non-trainable params: 0 (0.00 Byte)\n",
            "_________________________________________________________________\n"
          ]
        }
      ]
    },
    {
      "cell_type": "code",
      "source": [
        "for input_example_batch, target_example_batch in data.take(1):\n",
        "  example_batch_predictions = model(input_example_batch)  # ask our model for a prediction on our first batch of training data (64 entries)\n",
        "  print(example_batch_predictions.shape, \"# (batch_size, sequence_length, vocab_size)\")  # print out the output shape\n",
        "print(len(example_batch_predictions))\n",
        "print(example_batch_predictions)\n",
        "# lets examine one prediction\n",
        "pred = example_batch_predictions[0]\n",
        "print(len(pred))\n",
        "print(pred)\n",
        "# notice this is a 2d array of length 100, where each interior array is the prediction for the next character at each time step\n",
        "# and finally well look at a prediction at the first timestep\n",
        "time_pred = pred[0]\n",
        "print(len(time_pred))\n",
        "print(time_pred)\n",
        "# and of course its 65 values representing the probabillity of each character occuring next\n",
        "# If we want to determine the predicted character we need to sample the output distribution (pick a value based on probabillity)\n",
        "sampled_indices = tf.random.categorical(pred, num_samples=1)\n",
        "\n",
        "# now we can reshape that array and convert all the integers to numbers to see the actual characters\n",
        "sampled_indices = np.reshape(sampled_indices, (1, -1))[0]\n",
        "predicted_chars = int_to_text(sampled_indices)\n",
        "\n",
        "predicted_chars  # and this is what the model predicted for training sequence 1\n",
        "def loss(labels, logits):\n",
        "  return tf.keras.losses.sparse_categorical_crossentropy(labels, logits, from_logits=True)"
      ],
      "metadata": {
        "colab": {
          "base_uri": "https://localhost:8080/"
        },
        "id": "mqzVXMbLh2Z1",
        "outputId": "249bd64c-63cc-49b7-b606-794981868c72",
        "collapsed": true
      },
      "execution_count": 27,
      "outputs": [
        {
          "output_type": "stream",
          "name": "stdout",
          "text": [
            "(64, 100, 65) # (batch_size, sequence_length, vocab_size)\n",
            "64\n",
            "tf.Tensor(\n",
            "[[[ 1.02750876e-03  1.53488829e-03  9.09130438e-04 ... -5.22715505e-04\n",
            "    4.44042357e-03 -1.59466779e-03]\n",
            "  [ 5.36487671e-03 -6.60190312e-03 -2.90446356e-03 ... -1.52667263e-03\n",
            "    8.11385689e-04 -8.50743148e-04]\n",
            "  [ 7.20796362e-03 -5.18095167e-03  7.30615226e-04 ...  5.53085236e-04\n",
            "   -1.34372106e-03  2.00896012e-03]\n",
            "  ...\n",
            "  [ 2.57946295e-03  2.60446384e-03  1.22565553e-02 ... -1.25965029e-02\n",
            "    9.66318417e-03 -1.41316652e-03]\n",
            "  [-3.30607360e-03 -1.10397302e-03  8.33036657e-03 ... -1.27344774e-02\n",
            "    1.07694948e-02 -2.73559382e-03]\n",
            "  [ 4.02823091e-03 -6.22986350e-04  2.51719635e-03 ... -1.39741134e-02\n",
            "    5.14244195e-03 -1.82784686e-03]]\n",
            "\n",
            " [[-2.09902273e-03 -4.04894538e-03  1.92816975e-03 ...  8.76022459e-05\n",
            "   -5.01998980e-03  1.50309736e-03]\n",
            "  [-8.96278885e-04 -6.50093891e-03  5.05822711e-04 ...  7.63851870e-03\n",
            "   -1.20211681e-02  6.33688085e-03]\n",
            "  [ 3.60967894e-03 -5.10870898e-03  3.74075631e-03 ...  7.67276250e-03\n",
            "   -8.75806250e-03  5.90800168e-03]\n",
            "  ...\n",
            "  [ 5.34281554e-03 -6.95939967e-03 -2.43894733e-03 ...  9.48260725e-03\n",
            "   -4.09095548e-04 -3.82852135e-03]\n",
            "  [ 3.74689931e-04 -8.43201671e-03 -1.43782073e-03 ...  2.84370873e-03\n",
            "   -3.46487854e-03  1.34617812e-03]\n",
            "  [ 5.22458227e-03 -6.53914455e-03 -2.22907169e-03 ... -2.22978811e-03\n",
            "   -1.13025261e-03 -6.90186676e-03]]\n",
            "\n",
            " [[ 3.07692261e-03  1.27299820e-04  2.53172452e-03 ...  2.18786160e-03\n",
            "   -7.60842464e-04  1.27596781e-03]\n",
            "  [ 2.66266963e-03  4.81723691e-04 -1.53415976e-03 ...  1.33423833e-03\n",
            "   -2.39413790e-03  1.52599066e-03]\n",
            "  [ 2.82658287e-03 -1.90215977e-03  2.35821144e-03 ...  1.33408350e-03\n",
            "    1.06603745e-03 -1.68241200e-03]\n",
            "  ...\n",
            "  [ 4.61175153e-03 -2.83673499e-03  3.45433154e-03 ... -9.17023048e-03\n",
            "    4.31402959e-03 -1.88126159e-03]\n",
            "  [ 4.81883064e-03 -3.42099997e-03  4.99195978e-03 ... -7.70705380e-03\n",
            "    6.50134077e-03 -4.92069591e-03]\n",
            "  [ 6.16325578e-03 -1.93580799e-03  5.74811408e-03 ... -8.37414525e-03\n",
            "    4.49767802e-03  9.55832656e-05]]\n",
            "\n",
            " ...\n",
            "\n",
            " [[ 4.25664661e-03  4.08682390e-05 -1.53817958e-03 ... -5.31389378e-03\n",
            "    1.93753268e-03 -7.13916868e-03]\n",
            "  [-3.51194234e-04  4.28996794e-03 -7.10876845e-03 ... -8.48808791e-03\n",
            "    9.26557346e-04 -4.50423826e-03]\n",
            "  [ 3.35353572e-04 -5.46714989e-04 -6.58736052e-03 ...  1.21476047e-03\n",
            "   -6.46462478e-03  3.95294838e-03]\n",
            "  ...\n",
            "  [ 5.44140674e-03  7.15926196e-03  4.94463660e-04 ...  2.00377544e-04\n",
            "    1.69209810e-03 -3.25734308e-03]\n",
            "  [ 6.49409089e-03  8.39156471e-03  4.64391895e-03 ... -8.95949779e-04\n",
            "    4.26870678e-03  1.32099353e-03]\n",
            "  [ 1.11377705e-02  6.34891214e-03  5.10872342e-03 ...  3.64949880e-03\n",
            "    8.65472481e-03  2.54850276e-03]]\n",
            "\n",
            " [[-2.86003575e-04  6.19912799e-03  3.32949124e-03 ... -3.32166860e-03\n",
            "   -2.43656826e-03  3.56950983e-03]\n",
            "  [-2.07837834e-03  6.46498334e-03  6.72006235e-03 ... -2.09971447e-03\n",
            "    1.29043893e-03  1.00794313e-02]\n",
            "  [-3.97054944e-03  1.62528222e-03  7.86282029e-03 ... -2.61613331e-03\n",
            "   -2.65674619e-03  9.30514093e-03]\n",
            "  ...\n",
            "  [ 6.39655162e-03 -1.35619985e-03  1.04149878e-02 ... -5.44100767e-03\n",
            "    5.59158856e-03 -4.28772951e-03]\n",
            "  [ 5.97319752e-03  5.31921862e-03  1.12416502e-02 ... -7.61014922e-03\n",
            "    2.63229432e-03  3.26897949e-04]\n",
            "  [ 9.16659925e-03  4.95877163e-03  1.14520956e-02 ... -3.90412100e-03\n",
            "    2.88999360e-03  2.51594698e-03]]\n",
            "\n",
            " [[-4.78389254e-03  3.59311886e-03  8.11646227e-04 ...  1.49395864e-03\n",
            "   -8.86661001e-04  4.55915369e-03]\n",
            "  [-3.44621367e-03  1.02114398e-03  1.07900705e-04 ...  7.27843260e-04\n",
            "   -3.34464619e-03  1.49231520e-03]\n",
            "  [ 3.25006549e-03  1.16296648e-03  2.84087937e-03 ...  4.07126732e-03\n",
            "    2.62456760e-03  9.41530627e-04]\n",
            "  ...\n",
            "  [ 6.26384933e-03 -3.24426033e-03  3.17790732e-03 ... -2.21560569e-03\n",
            "   -2.22642557e-04  9.95095703e-04]\n",
            "  [ 5.70566021e-03  2.72584613e-03  5.19107468e-03 ... -8.11556913e-03\n",
            "   -6.98363874e-05 -6.76801312e-04]\n",
            "  [ 5.64588886e-03  2.95483368e-03  7.09089637e-03 ... -7.42508657e-03\n",
            "    5.24988747e-04  4.07410460e-03]]], shape=(64, 100, 65), dtype=float32)\n",
            "100\n",
            "tf.Tensor(\n",
            "[[ 0.00102751  0.00153489  0.00090913 ... -0.00052272  0.00444042\n",
            "  -0.00159467]\n",
            " [ 0.00536488 -0.0066019  -0.00290446 ... -0.00152667  0.00081139\n",
            "  -0.00085074]\n",
            " [ 0.00720796 -0.00518095  0.00073062 ...  0.00055309 -0.00134372\n",
            "   0.00200896]\n",
            " ...\n",
            " [ 0.00257946  0.00260446  0.01225656 ... -0.0125965   0.00966318\n",
            "  -0.00141317]\n",
            " [-0.00330607 -0.00110397  0.00833037 ... -0.01273448  0.01076949\n",
            "  -0.00273559]\n",
            " [ 0.00402823 -0.00062299  0.0025172  ... -0.01397411  0.00514244\n",
            "  -0.00182785]], shape=(100, 65), dtype=float32)\n",
            "65\n",
            "tf.Tensor(\n",
            "[ 0.00102751  0.00153489  0.00090913  0.002183    0.00337066 -0.00064908\n",
            " -0.00050518  0.0006982   0.00336359  0.00018912  0.00499581  0.00679185\n",
            "  0.0005563  -0.00610693  0.00216469 -0.00313111  0.00147551  0.00153763\n",
            "  0.0002091   0.00107853 -0.00462639  0.00120863  0.00463086 -0.00203287\n",
            "  0.00168043 -0.00090986  0.00217027 -0.00126057 -0.00769198 -0.00308403\n",
            " -0.00102409 -0.00362421  0.0057097   0.00203109 -0.00471667  0.00101283\n",
            " -0.00219467 -0.00353542  0.00667641 -0.00030597  0.00404408 -0.00496779\n",
            "  0.00112189  0.00423907  0.00644513 -0.00052059  0.00469814 -0.00534963\n",
            "  0.002273    0.00013011 -0.00285307  0.00246642  0.00140981 -0.0033101\n",
            "  0.00126612  0.00076437 -0.0026992  -0.00183806  0.00189838 -0.00277858\n",
            "  0.00195362  0.00082752 -0.00052272  0.00444042 -0.00159467], shape=(65,), dtype=float32)\n"
          ]
        }
      ]
    },
    {
      "cell_type": "code",
      "source": [
        "model.compile(optimizer='adam', loss=loss)\n",
        "checkpoint_dir = './training_checkpoints'\n",
        "# Name of the checkpoint files\n",
        "checkpoint_prefix = os.path.join(checkpoint_dir, \"ckpt_{epoch}\")\n",
        "\n",
        "checkpoint_callback=tf.keras.callbacks.ModelCheckpoint(\n",
        "    filepath=checkpoint_prefix,\n",
        "    save_weights_only=True)"
      ],
      "metadata": {
        "id": "PhZkYUvQh38x"
      },
      "execution_count": 28,
      "outputs": []
    },
    {
      "cell_type": "code",
      "source": [
        "history = model.fit(data, epochs=60, callbacks=[checkpoint_callback])"
      ],
      "metadata": {
        "colab": {
          "base_uri": "https://localhost:8080/"
        },
        "id": "fcDKP71LnQjL",
        "outputId": "addc141c-9020-446d-89dc-6b691e56883d"
      },
      "execution_count": 29,
      "outputs": [
        {
          "output_type": "stream",
          "name": "stdout",
          "text": [
            "Epoch 1/60\n",
            "172/172 [==============================] - 15s 65ms/step - loss: 2.5869\n",
            "Epoch 2/60\n",
            "172/172 [==============================] - 14s 64ms/step - loss: 1.8824\n",
            "Epoch 3/60\n",
            "172/172 [==============================] - 13s 65ms/step - loss: 1.6341\n",
            "Epoch 4/60\n",
            "172/172 [==============================] - 13s 66ms/step - loss: 1.5011\n",
            "Epoch 5/60\n",
            "172/172 [==============================] - 13s 67ms/step - loss: 1.4208\n",
            "Epoch 6/60\n",
            "172/172 [==============================] - 14s 67ms/step - loss: 1.3642\n",
            "Epoch 7/60\n",
            "172/172 [==============================] - 14s 67ms/step - loss: 1.3187\n",
            "Epoch 8/60\n",
            "172/172 [==============================] - 13s 68ms/step - loss: 1.2805\n",
            "Epoch 9/60\n",
            "172/172 [==============================] - 13s 68ms/step - loss: 1.2430\n",
            "Epoch 10/60\n",
            "172/172 [==============================] - 13s 68ms/step - loss: 1.2075\n",
            "Epoch 11/60\n",
            "172/172 [==============================] - 14s 68ms/step - loss: 1.1714\n",
            "Epoch 12/60\n",
            "172/172 [==============================] - 13s 68ms/step - loss: 1.1345\n",
            "Epoch 13/60\n",
            "172/172 [==============================] - 13s 68ms/step - loss: 1.0953\n",
            "Epoch 14/60\n",
            "172/172 [==============================] - 13s 68ms/step - loss: 1.0549\n",
            "Epoch 15/60\n",
            "172/172 [==============================] - 13s 68ms/step - loss: 1.0136\n",
            "Epoch 16/60\n",
            "172/172 [==============================] - 13s 69ms/step - loss: 0.9725\n",
            "Epoch 17/60\n",
            "172/172 [==============================] - 14s 69ms/step - loss: 0.9296\n",
            "Epoch 18/60\n",
            "172/172 [==============================] - 13s 68ms/step - loss: 0.8883\n",
            "Epoch 19/60\n",
            "172/172 [==============================] - 13s 68ms/step - loss: 0.8487\n",
            "Epoch 20/60\n",
            "172/172 [==============================] - 13s 68ms/step - loss: 0.8104\n",
            "Epoch 21/60\n",
            "172/172 [==============================] - 14s 68ms/step - loss: 0.7727\n",
            "Epoch 22/60\n",
            "172/172 [==============================] - 13s 68ms/step - loss: 0.7392\n",
            "Epoch 23/60\n",
            "172/172 [==============================] - 13s 68ms/step - loss: 0.7070\n",
            "Epoch 24/60\n",
            "172/172 [==============================] - 15s 68ms/step - loss: 0.6787\n",
            "Epoch 25/60\n",
            "172/172 [==============================] - 13s 68ms/step - loss: 0.6512\n",
            "Epoch 26/60\n",
            "172/172 [==============================] - 13s 68ms/step - loss: 0.6283\n",
            "Epoch 27/60\n",
            "172/172 [==============================] - 13s 69ms/step - loss: 0.6070\n",
            "Epoch 28/60\n",
            "172/172 [==============================] - 13s 68ms/step - loss: 0.5871\n",
            "Epoch 29/60\n",
            "172/172 [==============================] - 13s 69ms/step - loss: 0.5707\n",
            "Epoch 30/60\n",
            "172/172 [==============================] - 13s 69ms/step - loss: 0.5557\n",
            "Epoch 31/60\n",
            "172/172 [==============================] - 13s 68ms/step - loss: 0.5405\n",
            "Epoch 32/60\n",
            "172/172 [==============================] - 13s 68ms/step - loss: 0.5284\n",
            "Epoch 33/60\n",
            "172/172 [==============================] - 13s 68ms/step - loss: 0.5148\n",
            "Epoch 34/60\n",
            "172/172 [==============================] - 14s 68ms/step - loss: 0.5056\n",
            "Epoch 35/60\n",
            "172/172 [==============================] - 14s 69ms/step - loss: 0.4962\n",
            "Epoch 36/60\n",
            "172/172 [==============================] - 13s 68ms/step - loss: 0.4866\n",
            "Epoch 37/60\n",
            "172/172 [==============================] - 13s 68ms/step - loss: 0.4802\n",
            "Epoch 38/60\n",
            "172/172 [==============================] - 13s 69ms/step - loss: 0.4732\n",
            "Epoch 39/60\n",
            "172/172 [==============================] - 15s 69ms/step - loss: 0.4645\n",
            "Epoch 40/60\n",
            "172/172 [==============================] - 14s 69ms/step - loss: 0.4581\n",
            "Epoch 41/60\n",
            "172/172 [==============================] - 13s 69ms/step - loss: 0.4573\n",
            "Epoch 42/60\n",
            "172/172 [==============================] - 13s 69ms/step - loss: 0.4515\n",
            "Epoch 43/60\n",
            "172/172 [==============================] - 15s 69ms/step - loss: 0.4451\n",
            "Epoch 44/60\n",
            "172/172 [==============================] - 14s 69ms/step - loss: 0.4414\n",
            "Epoch 45/60\n",
            "172/172 [==============================] - 13s 69ms/step - loss: 0.4376\n",
            "Epoch 46/60\n",
            "172/172 [==============================] - 13s 69ms/step - loss: 0.4369\n",
            "Epoch 47/60\n",
            "172/172 [==============================] - 13s 68ms/step - loss: 0.4332\n",
            "Epoch 48/60\n",
            "172/172 [==============================] - 13s 69ms/step - loss: 0.4307\n",
            "Epoch 49/60\n",
            "172/172 [==============================] - 13s 68ms/step - loss: 0.4298\n",
            "Epoch 50/60\n",
            "172/172 [==============================] - 14s 69ms/step - loss: 0.4264\n",
            "Epoch 51/60\n",
            "172/172 [==============================] - 13s 69ms/step - loss: 0.4209\n",
            "Epoch 52/60\n",
            "172/172 [==============================] - 14s 70ms/step - loss: 0.4184\n",
            "Epoch 53/60\n",
            "172/172 [==============================] - 14s 69ms/step - loss: 0.4168\n",
            "Epoch 54/60\n",
            "172/172 [==============================] - 13s 69ms/step - loss: 0.4152\n",
            "Epoch 55/60\n",
            "172/172 [==============================] - 13s 69ms/step - loss: 0.4136\n",
            "Epoch 56/60\n",
            "172/172 [==============================] - 14s 70ms/step - loss: 0.4130\n",
            "Epoch 57/60\n",
            "172/172 [==============================] - 14s 70ms/step - loss: 0.4126\n",
            "Epoch 58/60\n",
            "172/172 [==============================] - 14s 70ms/step - loss: 0.4076\n",
            "Epoch 59/60\n",
            "172/172 [==============================] - 14s 71ms/step - loss: 0.4086\n",
            "Epoch 60/60\n",
            "172/172 [==============================] - 14s 70ms/step - loss: 0.4079\n"
          ]
        }
      ]
    },
    {
      "cell_type": "code",
      "source": [
        "model = build_model(VOCAB_SIZE, EMBEDDING_DIM, RNN_UNITS, batch_size=1)"
      ],
      "metadata": {
        "id": "DsQUf7QenTfK"
      },
      "execution_count": 30,
      "outputs": []
    },
    {
      "cell_type": "code",
      "source": [
        "model.load_weights(tf.train.latest_checkpoint(checkpoint_dir))\n",
        "model.build(tf.TensorShape([1, None]))\n",
        "# checkpoint_num = 10\n",
        "# model.load_weights(tf.train.load_checkpoint(\"./training_checkpoints/ckpt_\" + str(checkpoint_num)))\n",
        "# model.build(tf.TensorShape([1, None]))"
      ],
      "metadata": {
        "id": "zvvYRbIhnZIP"
      },
      "execution_count": 31,
      "outputs": []
    },
    {
      "cell_type": "code",
      "source": [
        "def generate_text(model, start_string):\n",
        "  # Evaluation step (generating text using the learned model)\n",
        "\n",
        "  # Number of characters to generate\n",
        "  num_generate = 800\n",
        "\n",
        "  # Converting our start string to numbers (vectorizing)\n",
        "  input_eval = [char2idx[s] for s in start_string]\n",
        "  input_eval = tf.expand_dims(input_eval, 0)\n",
        "\n",
        "  # Empty string to store our results\n",
        "  text_generated = []\n",
        "\n",
        "  # Low temperatures results in more predictable text.\n",
        "  # Higher temperatures results in more surprising text.\n",
        "  # Experiment to find the best setting.\n",
        "  temperature = 1.0\n",
        "\n",
        "  # Here batch size == 1\n",
        "  model.reset_states()\n",
        "  for i in range(num_generate):\n",
        "      predictions = model(input_eval)\n",
        "      # remove the batch dimension\n",
        "\n",
        "      predictions = tf.squeeze(predictions, 0)\n",
        "\n",
        "      # using a categorical distribution to predict the character returned by the model\n",
        "      predictions = predictions / temperature\n",
        "      predicted_id = tf.random.categorical(predictions, num_samples=1)[-1,0].numpy()\n",
        "\n",
        "      # We pass the predicted character as the next input to the model\n",
        "      # along with the previous hidden state\n",
        "      input_eval = tf.expand_dims([predicted_id], 0)\n",
        "\n",
        "      text_generated.append(idx2char[predicted_id])\n",
        "\n",
        "  return (start_string + ''.join(text_generated))\n",
        "inp = input(\"Type a starting string: \")\n",
        "print(generate_text(model, inp))"
      ],
      "metadata": {
        "id": "HZIsvcsfnfCX",
        "colab": {
          "base_uri": "https://localhost:8080/"
        },
        "outputId": "adb293ac-636b-4923-e7f4-8315b7b17347"
      },
      "execution_count": 34,
      "outputs": [
        {
          "output_type": "stream",
          "name": "stdout",
          "text": [
            "Type a starting string: There is nothing either good or bad, but thinking makes it so. \n",
            "There is nothing either good or bad, but thinking makes it so. I do you know\n",
            "My daughters all up And look us with an arby?\n",
            "\n",
            "Post:\n",
            "Well, Signior Peter! Can you not speak! all devise\n",
            "VOLUMNIA:\n",
            "Indeed, you shall not. He says he so bright at die they dream;\n",
            "Then weep nor from a pitchel changeance, as thou dost of those\n",
            "butthe contented.\n",
            "\n",
            "VOLUMNIA:\n",
            "Too late, I cannot do't:\n",
            "Lest I not be a lang'd, in God's spirit all;\n",
            "And in this trantful ears that with his friend,\n",
            "To choose me for that judgment, and entreat me faint!\n",
            "a whoreson, for I know not how to show their friends.\n",
            "Your laster VINCENTIO:\n",
            "The thice of the univerying darks\n",
            "Which makes me swear the with the breath of penitence:\n",
            "pulchastisement be pardon.\n",
            "\n",
            "ISABELLA:\n",
            "To-morrow; you lie in briff: therefore\n",
            "weeping doth depart and shrewd are gone.\n",
            "\n",
            "LEONTES:\n",
            "Ho! first since mine enemies?\n",
            "\n",
            "QUEEN MARGARET:\n",
            "Forb\n"
          ]
        }
      ]
    },
    {
      "cell_type": "code",
      "source": [],
      "metadata": {
        "id": "k5P5emTgoonv"
      },
      "execution_count": null,
      "outputs": []
    }
  ]
}