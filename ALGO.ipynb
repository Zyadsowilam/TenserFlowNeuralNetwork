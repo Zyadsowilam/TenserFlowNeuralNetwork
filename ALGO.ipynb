{
  "nbformat": 4,
  "nbformat_minor": 0,
  "metadata": {
    "colab": {
      "provenance": []
    },
    "kernelspec": {
      "name": "python3",
      "display_name": "Python 3"
    },
    "language_info": {
      "name": "python"
    }
  },
  "cells": [
    {
      "cell_type": "code",
      "execution_count": 19,
      "metadata": {
        "colab": {
          "base_uri": "https://localhost:8080/"
        },
        "id": "tlEGOSPNC8aE",
        "outputId": "df284f3e-c225-4877-f3e5-85736b15084f"
      },
      "outputs": [
        {
          "output_type": "stream",
          "name": "stdout",
          "text": [
            "Colab only includes TensorFlow 2.x; %tensorflow_version has no effect.\n"
          ]
        }
      ],
      "source": [
        "%tensorflow_version 2.x\n"
      ]
    },
    {
      "cell_type": "code",
      "source": [
        "import tensorflow as tf\n",
        "print(tf.version)"
      ],
      "metadata": {
        "colab": {
          "base_uri": "https://localhost:8080/"
        },
        "id": "vLE2A-_cDqt1",
        "outputId": "9990c756-8a46-46be-b65e-b0569787c033"
      },
      "execution_count": 20,
      "outputs": [
        {
          "output_type": "stream",
          "name": "stdout",
          "text": [
            "<module 'tensorflow._api.v2.version' from '/usr/local/lib/python3.10/dist-packages/tensorflow/_api/v2/version/__init__.py'>\n"
          ]
        }
      ]
    },
    {
      "cell_type": "code",
      "source": [
        "rank1_tensor = tf.Variable([\"Test\"], tf.string)\n",
        "rank2_tensor = tf.Variable([[\"test\", \"ok\"], [\"test\", \"yes\"]], tf.string)"
      ],
      "metadata": {
        "id": "ey1OwzHZDw-E"
      },
      "execution_count": 21,
      "outputs": []
    },
    {
      "cell_type": "code",
      "source": [
        "tf.rank(rank2_tensor)"
      ],
      "metadata": {
        "colab": {
          "base_uri": "https://localhost:8080/"
        },
        "id": "TS6L-voRGbF0",
        "outputId": "04328c51-990b-4e90-d09c-89f08827f17e"
      },
      "execution_count": 22,
      "outputs": [
        {
          "output_type": "execute_result",
          "data": {
            "text/plain": [
              "<tf.Tensor: shape=(), dtype=int32, numpy=2>"
            ]
          },
          "metadata": {},
          "execution_count": 22
        }
      ]
    },
    {
      "cell_type": "code",
      "source": [
        "tensor1 = tf.ones([1,2,3])  # tf.ones() creates a shape [1,2,3] tensor full of ones\n",
        "tensor2 = tf.reshape(tensor1, [2,3,1])  # reshape existing data to shape [2,3,1]\n",
        "tensor3 = tf.reshape(tensor2, [3, -1])  # -1 tells the tensor to calculate the size of the dimension in that place\n",
        "                                        # this will reshape the tensor to [3,3]\n",
        "\n",
        "# The numer of elements in the reshaped tensor MUST match the number in the original"
      ],
      "metadata": {
        "id": "kvLPjo0_HKok"
      },
      "execution_count": 23,
      "outputs": []
    },
    {
      "cell_type": "code",
      "source": [
        "print(tensor1)\n",
        "print(tensor2)\n",
        "print(tensor3)"
      ],
      "metadata": {
        "colab": {
          "base_uri": "https://localhost:8080/"
        },
        "id": "6cWLYBxEHLgp",
        "outputId": "3c552565-0637-47ad-f5a5-36014c8eec66"
      },
      "execution_count": 8,
      "outputs": [
        {
          "output_type": "stream",
          "name": "stdout",
          "text": [
            "tf.Tensor(\n",
            "[[[1. 1. 1.]\n",
            "  [1. 1. 1.]]], shape=(1, 2, 3), dtype=float32)\n",
            "tf.Tensor(\n",
            "[[[1.]\n",
            "  [1.]\n",
            "  [1.]]\n",
            "\n",
            " [[1.]\n",
            "  [1.]\n",
            "  [1.]]], shape=(2, 3, 1), dtype=float32)\n",
            "tf.Tensor(\n",
            "[[1. 1.]\n",
            " [1. 1.]\n",
            " [1. 1.]], shape=(3, 2), dtype=float32)\n"
          ]
        }
      ]
    },
    {
      "cell_type": "code",
      "source": [
        "!pip install -q sklearn"
      ],
      "metadata": {
        "colab": {
          "base_uri": "https://localhost:8080/"
        },
        "id": "QN42OthFkXFq",
        "outputId": "9b54a17f-6177-42d4-9234-62d26f6c4210"
      },
      "execution_count": 24,
      "outputs": [
        {
          "output_type": "stream",
          "name": "stdout",
          "text": [
            "  \u001b[1;31merror\u001b[0m: \u001b[1msubprocess-exited-with-error\u001b[0m\n",
            "  \n",
            "  \u001b[31m×\u001b[0m \u001b[32mpython setup.py egg_info\u001b[0m did not run successfully.\n",
            "  \u001b[31m│\u001b[0m exit code: \u001b[1;36m1\u001b[0m\n",
            "  \u001b[31m╰─>\u001b[0m See above for output.\n",
            "  \n",
            "  \u001b[1;35mnote\u001b[0m: This error originates from a subprocess, and is likely not a problem with pip.\n",
            "  Preparing metadata (setup.py) ... \u001b[?25l\u001b[?25herror\n",
            "\u001b[1;31merror\u001b[0m: \u001b[1mmetadata-generation-failed\u001b[0m\n",
            "\n",
            "\u001b[31m×\u001b[0m Encountered error while generating package metadata.\n",
            "\u001b[31m╰─>\u001b[0m See above for output.\n",
            "\n",
            "\u001b[1;35mnote\u001b[0m: This is an issue with the package mentioned above, not pip.\n",
            "\u001b[1;36mhint\u001b[0m: See above for details.\n"
          ]
        }
      ]
    },
    {
      "cell_type": "code",
      "source": [
        "from __future__ import absolute_import, division, print_function, unicode_literals\n",
        "\n",
        "import numpy as np\n",
        "import pandas as pd\n",
        "import matplotlib.pyplot as plt\n",
        "from IPython.display import clear_output\n",
        "from six.moves import urllib\n",
        "\n",
        "import tensorflow.compat.v2.feature_column as fc\n",
        "\n",
        "import tensorflow as tf"
      ],
      "metadata": {
        "id": "6uc55Qo7kaR3"
      },
      "execution_count": 25,
      "outputs": []
    },
    {
      "cell_type": "code",
      "source": [
        "dftrain = pd.read_csv('https://storage.googleapis.com/tf-datasets/titanic/train.csv')\n",
        "dfeval = pd.read_csv('https://storage.googleapis.com/tf-datasets/titanic/eval.csv')\n",
        "y_train = dftrain.pop('survived')\n",
        "y_eval = dfeval.pop('survived')"
      ],
      "metadata": {
        "id": "aNqB0L3mkyWB"
      },
      "execution_count": 11,
      "outputs": []
    },
    {
      "cell_type": "code",
      "source": [
        "print(dftrain.head())"
      ],
      "metadata": {
        "colab": {
          "base_uri": "https://localhost:8080/"
        },
        "id": "BNIDBE8CmE25",
        "outputId": "1c28e465-c3cb-4b22-ba54-2b13d51561a4"
      },
      "execution_count": 12,
      "outputs": [
        {
          "output_type": "stream",
          "name": "stdout",
          "text": [
            "      sex   age  n_siblings_spouses  parch     fare  class     deck  \\\n",
            "0    male  22.0                   1      0   7.2500  Third  unknown   \n",
            "1  female  38.0                   1      0  71.2833  First        C   \n",
            "2  female  26.0                   0      0   7.9250  Third  unknown   \n",
            "3  female  35.0                   1      0  53.1000  First        C   \n",
            "4    male  28.0                   0      0   8.4583  Third  unknown   \n",
            "\n",
            "   embark_town alone  \n",
            "0  Southampton     n  \n",
            "1    Cherbourg     n  \n",
            "2  Southampton     y  \n",
            "3  Southampton     n  \n",
            "4   Queenstown     y  \n"
          ]
        }
      ]
    },
    {
      "cell_type": "code",
      "source": [
        "dftrain.describe()\n",
        "dftrain.shape"
      ],
      "metadata": {
        "colab": {
          "base_uri": "https://localhost:8080/"
        },
        "id": "a9FP4GHjpD9G",
        "outputId": "8d5a39dd-1fbf-4fa6-bee8-79d7b0eb7994"
      },
      "execution_count": 13,
      "outputs": [
        {
          "output_type": "execute_result",
          "data": {
            "text/plain": [
              "(627, 9)"
            ]
          },
          "metadata": {},
          "execution_count": 13
        }
      ]
    },
    {
      "cell_type": "code",
      "source": [
        "dftrain.age.hist(bins=20)\n",
        "dftrain.sex.value_counts().plot(kind='barh')\n",
        "dftrain['class'].value_counts().plot(kind='barh')\n",
        "pd.concat([dftrain, y_train], axis=1).groupby('sex').survived.mean().plot(kind='barh').set_xlabel('% survive')"
      ],
      "metadata": {
        "colab": {
          "base_uri": "https://localhost:8080/",
          "height": 466
        },
        "id": "jUkaxOqgpHJA",
        "outputId": "1707a634-44bb-484d-e9da-32a6b914688e"
      },
      "execution_count": 14,
      "outputs": [
        {
          "output_type": "execute_result",
          "data": {
            "text/plain": [
              "Text(0.5, 0, '% survive')"
            ]
          },
          "metadata": {},
          "execution_count": 14
        },
        {
          "output_type": "display_data",
          "data": {
            "text/plain": [
              "<Figure size 640x480 with 1 Axes>"
            ],
            "image/png": "[encoded data removed]"
          },
          "metadata": {}
        }
      ]
    },
    {
      "cell_type": "code",
      "source": [
        "#CATEGORICAL string data\n",
        "\n",
        "CATEGORICAL_COLUMNS = ['sex', 'n_siblings_spouses', 'parch', 'class', 'deck',\n",
        "                       'embark_town', 'alone']\n",
        "NUMERIC_COLUMNS = ['age', 'fare']\n",
        "\n",
        "feature_columns = []\n",
        "for feature_name in CATEGORICAL_COLUMNS:\n",
        "  vocabulary = dftrain[feature_name].unique()  # gets a list of all unique values from given feature column\n",
        "  feature_columns.append(tf.feature_column.categorical_column_with_vocabulary_list(feature_name, vocabulary))\n",
        "\n",
        "for feature_name in NUMERIC_COLUMNS:\n",
        "  feature_columns.append(tf.feature_column.numeric_column(feature_name, dtype=tf.float32))\n",
        "\n",
        "print(feature_columns)"
      ],
      "metadata": {
        "colab": {
          "base_uri": "https://localhost:8080/"
        },
        "id": "RLB6eUFcqJ_v",
        "outputId": "f67002a5-6d97-42c8-e08f-83a89e2ebba4"
      },
      "execution_count": 15,
      "outputs": [
        {
          "output_type": "stream",
          "name": "stderr",
          "text": [
            "WARNING:tensorflow:From <ipython-input-15-5db8ce010f9d>:10: categorical_column_with_vocabulary_list (from tensorflow.python.feature_column.feature_column_v2) is deprecated and will be removed in a future version.\n",
            "Instructions for updating:\n",
            "Use Keras preprocessing layers instead, either directly or via the `tf.keras.utils.FeatureSpace` utility. Each of `tf.feature_column.*` has a functional equivalent in `tf.keras.layers` for feature preprocessing when training a Keras model.\n",
            "WARNING:tensorflow:From <ipython-input-15-5db8ce010f9d>:13: numeric_column (from tensorflow.python.feature_column.feature_column_v2) is deprecated and will be removed in a future version.\n",
            "Instructions for updating:\n",
            "Use Keras preprocessing layers instead, either directly or via the `tf.keras.utils.FeatureSpace` utility. Each of `tf.feature_column.*` has a functional equivalent in `tf.keras.layers` for feature preprocessing when training a Keras model.\n"
          ]
        },
        {
          "output_type": "stream",
          "name": "stdout",
          "text": [
            "[VocabularyListCategoricalColumn(key='sex', vocabulary_list=('male', 'female'), dtype=tf.string, default_value=-1, num_oov_buckets=0), VocabularyListCategoricalColumn(key='n_siblings_spouses', vocabulary_list=(1, 0, 3, 4, 2, 5, 8), dtype=tf.int64, default_value=-1, num_oov_buckets=0), VocabularyListCategoricalColumn(key='parch', vocabulary_list=(0, 1, 2, 5, 3, 4), dtype=tf.int64, default_value=-1, num_oov_buckets=0), VocabularyListCategoricalColumn(key='class', vocabulary_list=('Third', 'First', 'Second'), dtype=tf.string, default_value=-1, num_oov_buckets=0), VocabularyListCategoricalColumn(key='deck', vocabulary_list=('unknown', 'C', 'G', 'A', 'B', 'D', 'F', 'E'), dtype=tf.string, default_value=-1, num_oov_buckets=0), VocabularyListCategoricalColumn(key='embark_town', vocabulary_list=('Southampton', 'Cherbourg', 'Queenstown', 'unknown'), dtype=tf.string, default_value=-1, num_oov_buckets=0), VocabularyListCategoricalColumn(key='alone', vocabulary_list=('n', 'y'), dtype=tf.string, default_value=-1, num_oov_buckets=0), NumericColumn(key='age', shape=(1,), default_value=None, dtype=tf.float32, normalizer_fn=None), NumericColumn(key='fare', shape=(1,), default_value=None, dtype=tf.float32, normalizer_fn=None)]\n"
          ]
        }
      ]
    },
    {
      "cell_type": "code",
      "source": [
        "def make_input_fn(data_df, label_df, num_epochs=10, shuffle=True, batch_size=32):\n",
        "  def input_function():  # inner function, this will be returned\n",
        "    ds = tf.data.Dataset.from_tensor_slices((dict(data_df), label_df))  # create tf.data.Dataset object with data and its label\n",
        "    if shuffle:\n",
        "      ds = ds.shuffle(1000)  # randomize order of data\n",
        "    ds = ds.batch(batch_size).repeat(num_epochs)  # split dataset into batches of 32 and repeat process for number of epochs\n",
        "    return ds\n",
        "  return input_function"
      ],
      "metadata": {
        "id": "JgHWK6pmwXCB"
      },
      "execution_count": 16,
      "outputs": []
    },
    {
      "cell_type": "code",
      "source": [
        "train_input_fn = make_input_fn(dftrain, y_train)\n",
        "eval_input_fn = make_input_fn(dfeval, y_eval, num_epochs=1, shuffle=False)"
      ],
      "metadata": {
        "id": "lroqQRclwX3J"
      },
      "execution_count": 17,
      "outputs": []
    },
    {
      "cell_type": "markdown",
      "source": [
        "# **LINEAR REGRESSION**\n",
        "Now lets Add the linear model from tensor flow (\"y=mx+c\") use estiamatior and pass your features. An estiamtor is basically are Algos in tensor flow. Change labels to increase the accuracy."
      ],
      "metadata": {
        "id": "TwBUjVNXVaEV"
      }
    },
    {
      "cell_type": "code",
      "source": [
        "linear_est = tf.estimator.LinearClassifier(feature_columns=feature_columns)\n",
        "linear_est.train(train_input_fn)\n",
        "# get model metrics/stats by testing on tetsing data\n",
        "result = linear_est.evaluate(eval_input_fn)\n",
        "\n",
        "clear_output()\n",
        "#accuracy is alwways changed because data is shuffled\n",
        "print(result['accuracy'])\n",
        "print(result)"
      ],
      "metadata": {
        "colab": {
          "base_uri": "https://localhost:8080/"
        },
        "id": "qUo6cfyPW9xe",
        "outputId": "60e145df-daa4-4890-f95c-bf4bb66066b9"
      },
      "execution_count": 20,
      "outputs": [
        {
          "output_type": "stream",
          "name": "stdout",
          "text": [
            "0.7537879\n",
            "{'accuracy': 0.7537879, 'accuracy_baseline': 0.625, 'auc': 0.8159167, 'auc_precision_recall': 0.8003354, 'average_loss': 0.50211364, 'label/mean': 0.375, 'loss': 0.49460042, 'precision': 0.6666667, 'prediction/mean': 0.4357435, 'recall': 0.68686867, 'global_step': 200}\n"
          ]
        }
      ]
    },
    {
      "cell_type": "markdown",
      "source": [
        "Use the model for predict which typically new data to the model."
      ],
      "metadata": {
        "id": "dX1qHT0HZdNH"
      }
    },
    {
      "cell_type": "code",
      "source": [
        " pred_dicts = list(linear_est.predict(eval_input_fn))\n",
        " print(pred_dicts)\n",
        " print(pred_dicts[0]['probabilities'])\n",
        ""
      ],
      "metadata": {
        "colab": {
          "base_uri": "https://localhost:8080/"
        },
        "id": "zUNF93qiX2yw",
        "outputId": "d8c15871-5e88-4fb4-a807-334ac81a2fc5"
      },
      "execution_count": 25,
      "outputs": [
        {
          "output_type": "stream",
          "name": "stdout",
          "text": [
            "[{'logits': array([-1.8014423], dtype=float32), 'logistic': array([0.14167559], dtype=float32), 'probabilities': array([0.85832435, 0.14167558], dtype=float32), 'class_ids': array([0]), 'classes': array([b'0'], dtype=object), 'all_class_ids': array([0, 1], dtype=int32), 'all_classes': array([b'0', b'1'], dtype=object)}, {'logits': array([0.02273497], dtype=float32), 'logistic': array([0.5056835], dtype=float32), 'probabilities': array([0.4943165, 0.5056835], dtype=float32), 'class_ids': array([1]), 'classes': array([b'1'], dtype=object), 'all_class_ids': array([0, 1], dtype=int32), 'all_classes': array([b'0', b'1'], dtype=object)}, {'logits': array([1.8555351], dtype=float32), 'logistic': array([0.86477566], dtype=float32), 'probabilities': array([0.13522433, 0.8647757 ], dtype=float32), 'class_ids': array([1]), 'classes': array([b'1'], dtype=object), 'all_class_ids': array([0, 1], dtype=int32), 'all_classes': array([b'0', b'1'], dtype=object)}, {'logits': array([1.5114882], dtype=float32), 'logistic': array([0.81928164], dtype=float32), 'probabilities': array([0.18071835, 0.81928164], dtype=float32), 'class_ids': array([1]), 'classes': array([b'1'], dtype=object), 'all_class_ids': array([0, 1], dtype=int32), 'all_classes': array([b'0', b'1'], dtype=object)}, {'logits': array([-0.41357473], dtype=float32), 'logistic': array([0.3980553], dtype=float32), 'probabilities': array([0.6019448 , 0.39805534], dtype=float32), 'class_ids': array([0]), 'classes': array([b'0'], dtype=object), 'all_class_ids': array([0, 1], dtype=int32), 'all_classes': array([b'0', b'1'], dtype=object)}, {'logits': array([1.2493917], dtype=float32), 'logistic': array([0.77719456], dtype=float32), 'probabilities': array([0.22280546, 0.7771945 ], dtype=float32), 'class_ids': array([1]), 'classes': array([b'1'], dtype=object), 'all_class_ids': array([0, 1], dtype=int32), 'all_classes': array([b'0', b'1'], dtype=object)}, {'logits': array([0.21448407], dtype=float32), 'logistic': array([0.5534164], dtype=float32), 'probabilities': array([0.44658357, 0.5534164 ], dtype=float32), 'class_ids': array([1]), 'classes': array([b'1'], dtype=object), 'all_class_ids': array([0, 1], dtype=int32), 'all_classes': array([b'0', b'1'], dtype=object)}, {'logits': array([-1.7186283], dtype=float32), 'logistic': array([0.15204793], dtype=float32), 'probabilities': array([0.84795207, 0.15204793], dtype=float32), 'class_ids': array([0]), 'classes': array([b'0'], dtype=object), 'all_class_ids': array([0, 1], dtype=int32), 'all_classes': array([b'0', b'1'], dtype=object)}, {'logits': array([0.6150523], dtype=float32), 'logistic': array([0.6490924], dtype=float32), 'probabilities': array([0.35090756, 0.64909244], dtype=float32), 'class_ids': array([1]), 'classes': array([b'1'], dtype=object), 'all_class_ids': array([0, 1], dtype=int32), 'all_classes': array([b'0', b'1'], dtype=object)}, {'logits': array([1.2263768], dtype=float32), 'logistic': array([0.77318376], dtype=float32), 'probabilities': array([0.22681618, 0.77318376], dtype=float32), 'class_ids': array([1]), 'classes': array([b'1'], dtype=object), 'all_class_ids': array([0, 1], dtype=int32), 'all_classes': array([b'0', b'1'], dtype=object)}, {'logits': array([1.1736959], dtype=float32), 'logistic': array([0.7638124], dtype=float32), 'probabilities': array([0.23618756, 0.7638124 ], dtype=float32), 'class_ids': array([1]), 'classes': array([b'1'], dtype=object), 'all_class_ids': array([0, 1], dtype=int32), 'all_classes': array([b'0', b'1'], dtype=object)}, {'logits': array([-1.7175511], dtype=float32), 'logistic': array([0.15218686], dtype=float32), 'probabilities': array([0.84781307, 0.15218686], dtype=float32), 'class_ids': array([0]), 'classes': array([b'0'], dtype=object), 'all_class_ids': array([0, 1], dtype=int32), 'all_classes': array([b'0', b'1'], dtype=object)}, {'logits': array([1.6279013], dtype=float32), 'logistic': array([0.83588195], dtype=float32), 'probabilities': array([0.16411807, 0.83588195], dtype=float32), 'class_ids': array([1]), 'classes': array([b'1'], dtype=object), 'all_class_ids': array([0, 1], dtype=int32), 'all_classes': array([b'0', b'1'], dtype=object)}, {'logits': array([-0.0827882], dtype=float32), 'logistic': array([0.47931474], dtype=float32), 'probabilities': array([0.52068526, 0.47931474], dtype=float32), 'class_ids': array([0]), 'classes': array([b'0'], dtype=object), 'all_class_ids': array([0, 1], dtype=int32), 'all_classes': array([b'0', b'1'], dtype=object)}, {'logits': array([2.0931063], dtype=float32), 'logistic': array([0.8902313], dtype=float32), 'probabilities': array([0.10976866, 0.8902313 ], dtype=float32), 'class_ids': array([1]), 'classes': array([b'1'], dtype=object), 'all_class_ids': array([0, 1], dtype=int32), 'all_classes': array([b'0', b'1'], dtype=object)}, {'logits': array([0.17418513], dtype=float32), 'logistic': array([0.5434365], dtype=float32), 'probabilities': array([0.45656353, 0.5434366 ], dtype=float32), 'class_ids': array([1]), 'classes': array([b'1'], dtype=object), 'all_class_ids': array([0, 1], dtype=int32), 'all_classes': array([b'0', b'1'], dtype=object)}, {'logits': array([-1.1530627], dtype=float32), 'logistic': array([0.23993012], dtype=float32), 'probabilities': array([0.7600699 , 0.23993012], dtype=float32), 'class_ids': array([0]), 'classes': array([b'0'], dtype=object), 'all_class_ids': array([0, 1], dtype=int32), 'all_classes': array([b'0', b'1'], dtype=object)}, {'logits': array([1.7599666], dtype=float32), 'logistic': array([0.8532055], dtype=float32), 'probabilities': array([0.14679454, 0.85320556], dtype=float32), 'class_ids': array([1]), 'classes': array([b'1'], dtype=object), 'all_class_ids': array([0, 1], dtype=int32), 'all_classes': array([b'0', b'1'], dtype=object)}, {'logits': array([0.02231142], dtype=float32), 'logistic': array([0.5055776], dtype=float32), 'probabilities': array([0.4944224, 0.5055776], dtype=float32), 'class_ids': array([1]), 'classes': array([b'1'], dtype=object), 'all_class_ids': array([0, 1], dtype=int32), 'all_classes': array([b'0', b'1'], dtype=object)}, {'logits': array([-1.7659506], dtype=float32), 'logistic': array([0.14604665], dtype=float32), 'probabilities': array([0.8539534 , 0.14604665], dtype=float32), 'class_ids': array([0]), 'classes': array([b'0'], dtype=object), 'all_class_ids': array([0, 1], dtype=int32), 'all_classes': array([b'0', b'1'], dtype=object)}, {'logits': array([-1.7118694], dtype=float32), 'logistic': array([0.1529214], dtype=float32), 'probabilities': array([0.8470786 , 0.15292141], dtype=float32), 'class_ids': array([0]), 'classes': array([b'0'], dtype=object), 'all_class_ids': array([0, 1], dtype=int32), 'all_classes': array([b'0', b'1'], dtype=object)}, {'logits': array([-1.930895], dtype=float32), 'logistic': array([0.12665156], dtype=float32), 'probabilities': array([0.8733485 , 0.12665156], dtype=float32), 'class_ids': array([0]), 'classes': array([b'0'], dtype=object), 'all_class_ids': array([0, 1], dtype=int32), 'all_classes': array([b'0', b'1'], dtype=object)}, {'logits': array([0.9666723], dtype=float32), 'logistic': array([0.7244557], dtype=float32), 'probabilities': array([0.2755443, 0.7244557], dtype=float32), 'class_ids': array([1]), 'classes': array([b'1'], dtype=object), 'all_class_ids': array([0, 1], dtype=int32), 'all_classes': array([b'0', b'1'], dtype=object)}, {'logits': array([-1.8185238], dtype=float32), 'logistic': array([0.13961111], dtype=float32), 'probabilities': array([0.8603889 , 0.13961111], dtype=float32), 'class_ids': array([0]), 'classes': array([b'0'], dtype=object), 'all_class_ids': array([0, 1], dtype=int32), 'all_classes': array([b'0', b'1'], dtype=object)}, {'logits': array([0.98025125], dtype=float32), 'logistic': array([0.72715807], dtype=float32), 'probabilities': array([0.2728419, 0.727158 ], dtype=float32), 'class_ids': array([1]), 'classes': array([b'1'], dtype=object), 'all_class_ids': array([0, 1], dtype=int32), 'all_classes': array([b'0', b'1'], dtype=object)}, {'logits': array([0.14421842], dtype=float32), 'logistic': array([0.5359922], dtype=float32), 'probabilities': array([0.46400777, 0.53599226], dtype=float32), 'class_ids': array([1]), 'classes': array([b'1'], dtype=object), 'all_class_ids': array([0, 1], dtype=int32), 'all_classes': array([b'0', b'1'], dtype=object)}, {'logits': array([-1.5434867], dtype=float32), 'logistic': array([0.17602898], dtype=float32), 'probabilities': array([0.823971  , 0.17602898], dtype=float32), 'class_ids': array([0]), 'classes': array([b'0'], dtype=object), 'all_class_ids': array([0, 1], dtype=int32), 'all_classes': array([b'0', b'1'], dtype=object)}, {'logits': array([-0.51482], dtype=float32), 'logistic': array([0.3740643], dtype=float32), 'probabilities': array([0.62593573, 0.3740643 ], dtype=float32), 'class_ids': array([0]), 'classes': array([b'0'], dtype=object), 'all_class_ids': array([0, 1], dtype=int32), 'all_classes': array([b'0', b'1'], dtype=object)}, {'logits': array([-1.0564073], dtype=float32), 'logistic': array([0.25799662], dtype=float32), 'probabilities': array([0.7420033, 0.2579966], dtype=float32), 'class_ids': array([0]), 'classes': array([b'0'], dtype=object), 'all_class_ids': array([0, 1], dtype=int32), 'all_classes': array([b'0', b'1'], dtype=object)}, {'logits': array([1.9555544], dtype=float32), 'logistic': array([0.87605095], dtype=float32), 'probabilities': array([0.12394897, 0.876051  ], dtype=float32), 'class_ids': array([1]), 'classes': array([b'1'], dtype=object), 'all_class_ids': array([0, 1], dtype=int32), 'all_classes': array([b'0', b'1'], dtype=object)}, {'logits': array([-1.183247], dtype=float32), 'logistic': array([0.23446889], dtype=float32), 'probabilities': array([0.7655311 , 0.23446889], dtype=float32), 'class_ids': array([0]), 'classes': array([b'0'], dtype=object), 'all_class_ids': array([0, 1], dtype=int32), 'all_classes': array([b'0', b'1'], dtype=object)}, {'logits': array([1.6392343], dtype=float32), 'logistic': array([0.8374307], dtype=float32), 'probabilities': array([0.16256928, 0.8374307 ], dtype=float32), 'class_ids': array([1]), 'classes': array([b'1'], dtype=object), 'all_class_ids': array([0, 1], dtype=int32), 'all_classes': array([b'0', b'1'], dtype=object)}, {'logits': array([-0.98170453], dtype=float32), 'logistic': array([0.27255368], dtype=float32), 'probabilities': array([0.7274463, 0.2725537], dtype=float32), 'class_ids': array([0]), 'classes': array([b'0'], dtype=object), 'all_class_ids': array([0, 1], dtype=int32), 'all_classes': array([b'0', b'1'], dtype=object)}, {'logits': array([0.93063074], dtype=float32), 'logistic': array([0.7172032], dtype=float32), 'probabilities': array([0.28279677, 0.7172032 ], dtype=float32), 'class_ids': array([1]), 'classes': array([b'1'], dtype=object), 'all_class_ids': array([0, 1], dtype=int32), 'all_classes': array([b'0', b'1'], dtype=object)}, {'logits': array([-0.96470475], dtype=float32), 'logistic': array([0.27593723], dtype=float32), 'probabilities': array([0.7240628 , 0.27593723], dtype=float32), 'class_ids': array([0]), 'classes': array([b'0'], dtype=object), 'all_class_ids': array([0, 1], dtype=int32), 'all_classes': array([b'0', b'1'], dtype=object)}, {'logits': array([-1.7530247], dtype=float32), 'logistic': array([0.1476661], dtype=float32), 'probabilities': array([0.85233384, 0.1476661 ], dtype=float32), 'class_ids': array([0]), 'classes': array([b'0'], dtype=object), 'all_class_ids': array([0, 1], dtype=int32), 'all_classes': array([b'0', b'1'], dtype=object)}, {'logits': array([-0.9945192], dtype=float32), 'logistic': array([0.27002037], dtype=float32), 'probabilities': array([0.7299796 , 0.27002037], dtype=float32), 'class_ids': array([0]), 'classes': array([b'0'], dtype=object), 'all_class_ids': array([0, 1], dtype=int32), 'all_classes': array([b'0', b'1'], dtype=object)}, {'logits': array([-1.0822643], dtype=float32), 'logistic': array([0.25307775], dtype=float32), 'probabilities': array([0.7469222 , 0.25307775], dtype=float32), 'class_ids': array([0]), 'classes': array([b'0'], dtype=object), 'all_class_ids': array([0, 1], dtype=int32), 'all_classes': array([b'0', b'1'], dtype=object)}, {'logits': array([1.9129599], dtype=float32), 'logistic': array([0.8713513], dtype=float32), 'probabilities': array([0.12864868, 0.8713513 ], dtype=float32), 'class_ids': array([1]), 'classes': array([b'1'], dtype=object), 'all_class_ids': array([0, 1], dtype=int32), 'all_classes': array([b'0', b'1'], dtype=object)}, {'logits': array([-1.7718657], dtype=float32), 'logistic': array([0.14531046], dtype=float32), 'probabilities': array([0.85468954, 0.14531046], dtype=float32), 'class_ids': array([0]), 'classes': array([b'0'], dtype=object), 'all_class_ids': array([0, 1], dtype=int32), 'all_classes': array([b'0', b'1'], dtype=object)}, {'logits': array([1.6012946], dtype=float32), 'logistic': array([0.8321993], dtype=float32), 'probabilities': array([0.16780074, 0.8321992 ], dtype=float32), 'class_ids': array([1]), 'classes': array([b'1'], dtype=object), 'all_class_ids': array([0, 1], dtype=int32), 'all_classes': array([b'0', b'1'], dtype=object)}, {'logits': array([-1.9942948], dtype=float32), 'logistic': array([0.11980323], dtype=float32), 'probabilities': array([0.88019675, 0.11980323], dtype=float32), 'class_ids': array([0]), 'classes': array([b'0'], dtype=object), 'all_class_ids': array([0, 1], dtype=int32), 'all_classes': array([b'0', b'1'], dtype=object)}, {'logits': array([0.42183957], dtype=float32), 'logistic': array([0.6039233], dtype=float32), 'probabilities': array([0.39607668, 0.6039234 ], dtype=float32), 'class_ids': array([1]), 'classes': array([b'1'], dtype=object), 'all_class_ids': array([0, 1], dtype=int32), 'all_classes': array([b'0', b'1'], dtype=object)}, {'logits': array([-0.680751], dtype=float32), 'logistic': array([0.3360937], dtype=float32), 'probabilities': array([0.66390634, 0.3360937 ], dtype=float32), 'class_ids': array([0]), 'classes': array([b'0'], dtype=object), 'all_class_ids': array([0, 1], dtype=int32), 'all_classes': array([b'0', b'1'], dtype=object)}, {'logits': array([-0.41896912], dtype=float32), 'logistic': array([0.39676344], dtype=float32), 'probabilities': array([0.60323656, 0.39676347], dtype=float32), 'class_ids': array([0]), 'classes': array([b'0'], dtype=object), 'all_class_ids': array([0, 1], dtype=int32), 'all_classes': array([b'0', b'1'], dtype=object)}, {'logits': array([1.1538078], dtype=float32), 'logistic': array([0.76020575], dtype=float32), 'probabilities': array([0.23979424, 0.7602056 ], dtype=float32), 'class_ids': array([1]), 'classes': array([b'1'], dtype=object), 'all_class_ids': array([0, 1], dtype=int32), 'all_classes': array([b'0', b'1'], dtype=object)}, {'logits': array([-1.7180897], dtype=float32), 'logistic': array([0.15211739], dtype=float32), 'probabilities': array([0.8478826 , 0.15211739], dtype=float32), 'class_ids': array([0]), 'classes': array([b'0'], dtype=object), 'all_class_ids': array([0, 1], dtype=int32), 'all_classes': array([b'0', b'1'], dtype=object)}, {'logits': array([0.15230295], dtype=float32), 'logistic': array([0.53800225], dtype=float32), 'probabilities': array([0.4619977, 0.5380023], dtype=float32), 'class_ids': array([1]), 'classes': array([b'1'], dtype=object), 'all_class_ids': array([0, 1], dtype=int32), 'all_classes': array([b'0', b'1'], dtype=object)}, {'logits': array([-0.8056072], dtype=float32), 'logistic': array([0.30882737], dtype=float32), 'probabilities': array([0.6911726 , 0.30882734], dtype=float32), 'class_ids': array([0]), 'classes': array([b'0'], dtype=object), 'all_class_ids': array([0, 1], dtype=int32), 'all_classes': array([b'0', b'1'], dtype=object)}, {'logits': array([-0.37094375], dtype=float32), 'logistic': array([0.40831298], dtype=float32), 'probabilities': array([0.591687, 0.408313], dtype=float32), 'class_ids': array([0]), 'classes': array([b'0'], dtype=object), 'all_class_ids': array([0, 1], dtype=int32), 'all_classes': array([b'0', b'1'], dtype=object)}, {'logits': array([-1.5304188], dtype=float32), 'logistic': array([0.17793243], dtype=float32), 'probabilities': array([0.82206756, 0.17793243], dtype=float32), 'class_ids': array([0]), 'classes': array([b'0'], dtype=object), 'all_class_ids': array([0, 1], dtype=int32), 'all_classes': array([b'0', b'1'], dtype=object)}, {'logits': array([-0.9462128], dtype=float32), 'logistic': array([0.2796471], dtype=float32), 'probabilities': array([0.7203529 , 0.27964708], dtype=float32), 'class_ids': array([0]), 'classes': array([b'0'], dtype=object), 'all_class_ids': array([0, 1], dtype=int32), 'all_classes': array([b'0', b'1'], dtype=object)}, {'logits': array([-1.9247125], dtype=float32), 'logistic': array([0.12733698], dtype=float32), 'probabilities': array([0.872663  , 0.12733698], dtype=float32), 'class_ids': array([0]), 'classes': array([b'0'], dtype=object), 'all_class_ids': array([0, 1], dtype=int32), 'all_classes': array([b'0', b'1'], dtype=object)}, {'logits': array([-1.2542979], dtype=float32), 'logistic': array([0.22195706], dtype=float32), 'probabilities': array([0.778043  , 0.22195706], dtype=float32), 'class_ids': array([0]), 'classes': array([b'0'], dtype=object), 'all_class_ids': array([0, 1], dtype=int32), 'all_classes': array([b'0', b'1'], dtype=object)}, {'logits': array([-1.7008823], dtype=float32), 'logistic': array([0.15435007], dtype=float32), 'probabilities': array([0.8456499 , 0.15435006], dtype=float32), 'class_ids': array([0]), 'classes': array([b'0'], dtype=object), 'all_class_ids': array([0, 1], dtype=int32), 'all_classes': array([b'0', b'1'], dtype=object)}, {'logits': array([-1.7320656], dtype=float32), 'logistic': array([0.15032355], dtype=float32), 'probabilities': array([0.84967643, 0.15032355], dtype=float32), 'class_ids': array([0]), 'classes': array([b'0'], dtype=object), 'all_class_ids': array([0, 1], dtype=int32), 'all_classes': array([b'0', b'1'], dtype=object)}, {'logits': array([-1.0112809], dtype=float32), 'logistic': array([0.26672927], dtype=float32), 'probabilities': array([0.7332707 , 0.26672924], dtype=float32), 'class_ids': array([0]), 'classes': array([b'0'], dtype=object), 'all_class_ids': array([0, 1], dtype=int32), 'all_classes': array([b'0', b'1'], dtype=object)}, {'logits': array([2.9892213], dtype=float32), 'logistic': array([0.9520848], dtype=float32), 'probabilities': array([0.04791519, 0.9520847 ], dtype=float32), 'class_ids': array([1]), 'classes': array([b'1'], dtype=object), 'all_class_ids': array([0, 1], dtype=int32), 'all_classes': array([b'0', b'1'], dtype=object)}, {'logits': array([-0.9935351], dtype=float32), 'logistic': array([0.27021438], dtype=float32), 'probabilities': array([0.72978556, 0.27021438], dtype=float32), 'class_ids': array([0]), 'classes': array([b'0'], dtype=object), 'all_class_ids': array([0, 1], dtype=int32), 'all_classes': array([b'0', b'1'], dtype=object)}, {'logits': array([-1.7593709], dtype=float32), 'logistic': array([0.14686915], dtype=float32), 'probabilities': array([0.8531309 , 0.14686915], dtype=float32), 'class_ids': array([0]), 'classes': array([b'0'], dtype=object), 'all_class_ids': array([0, 1], dtype=int32), 'all_classes': array([b'0', b'1'], dtype=object)}, {'logits': array([-0.96608365], dtype=float32), 'logistic': array([0.2756618], dtype=float32), 'probabilities': array([0.72433823, 0.2756618 ], dtype=float32), 'class_ids': array([0]), 'classes': array([b'0'], dtype=object), 'all_class_ids': array([0, 1], dtype=int32), 'all_classes': array([b'0', b'1'], dtype=object)}, {'logits': array([0.12598786], dtype=float32), 'logistic': array([0.5314554], dtype=float32), 'probabilities': array([0.4685446 , 0.53145534], dtype=float32), 'class_ids': array([1]), 'classes': array([b'1'], dtype=object), 'all_class_ids': array([0, 1], dtype=int32), 'all_classes': array([b'0', b'1'], dtype=object)}, {'logits': array([-0.9650177], dtype=float32), 'logistic': array([0.2758747], dtype=float32), 'probabilities': array([0.72412527, 0.27587467], dtype=float32), 'class_ids': array([0]), 'classes': array([b'0'], dtype=object), 'all_class_ids': array([0, 1], dtype=int32), 'all_classes': array([b'0', b'1'], dtype=object)}, {'logits': array([1.4524432], dtype=float32), 'logistic': array([0.81037414], dtype=float32), 'probabilities': array([0.18962584, 0.8103742 ], dtype=float32), 'class_ids': array([1]), 'classes': array([b'1'], dtype=object), 'all_class_ids': array([0, 1], dtype=int32), 'all_classes': array([b'0', b'1'], dtype=object)}, {'logits': array([-0.99459416], dtype=float32), 'logistic': array([0.2700056], dtype=float32), 'probabilities': array([0.7299944, 0.2700056], dtype=float32), 'class_ids': array([0]), 'classes': array([b'0'], dtype=object), 'all_class_ids': array([0, 1], dtype=int32), 'all_classes': array([b'0', b'1'], dtype=object)}, {'logits': array([0.9424726], dtype=float32), 'logistic': array([0.7195988], dtype=float32), 'probabilities': array([0.28040114, 0.7195988 ], dtype=float32), 'class_ids': array([1]), 'classes': array([b'1'], dtype=object), 'all_class_ids': array([0, 1], dtype=int32), 'all_classes': array([b'0', b'1'], dtype=object)}, {'logits': array([-0.14351842], dtype=float32), 'logistic': array([0.46418184], dtype=float32), 'probabilities': array([0.53581816, 0.46418184], dtype=float32), 'class_ids': array([0]), 'classes': array([b'0'], dtype=object), 'all_class_ids': array([0, 1], dtype=int32), 'all_classes': array([b'0', b'1'], dtype=object)}, {'logits': array([-1.192225], dtype=float32), 'logistic': array([0.23286124], dtype=float32), 'probabilities': array([0.7671387, 0.2328612], dtype=float32), 'class_ids': array([0]), 'classes': array([b'0'], dtype=object), 'all_class_ids': array([0, 1], dtype=int32), 'all_classes': array([b'0', b'1'], dtype=object)}, {'logits': array([-0.8517032], dtype=float32), 'logistic': array([0.2990757], dtype=float32), 'probabilities': array([0.7009243 , 0.29907566], dtype=float32), 'class_ids': array([0]), 'classes': array([b'0'], dtype=object), 'all_class_ids': array([0, 1], dtype=int32), 'all_classes': array([b'0', b'1'], dtype=object)}, {'logits': array([1.199423], dtype=float32), 'logistic': array([0.7684221], dtype=float32), 'probabilities': array([0.23157789, 0.7684221 ], dtype=float32), 'class_ids': array([1]), 'classes': array([b'1'], dtype=object), 'all_class_ids': array([0, 1], dtype=int32), 'all_classes': array([b'0', b'1'], dtype=object)}, {'logits': array([2.2196248], dtype=float32), 'logistic': array([0.90199804], dtype=float32), 'probabilities': array([0.09800196, 0.901998  ], dtype=float32), 'class_ids': array([1]), 'classes': array([b'1'], dtype=object), 'all_class_ids': array([0, 1], dtype=int32), 'all_classes': array([b'0', b'1'], dtype=object)}, {'logits': array([-0.00132266], dtype=float32), 'logistic': array([0.49966934], dtype=float32), 'probabilities': array([0.5003307 , 0.49966934], dtype=float32), 'class_ids': array([0]), 'classes': array([b'0'], dtype=object), 'all_class_ids': array([0, 1], dtype=int32), 'all_classes': array([b'0', b'1'], dtype=object)}, {'logits': array([-1.7287468], dtype=float32), 'logistic': array([0.15074795], dtype=float32), 'probabilities': array([0.84925205, 0.15074795], dtype=float32), 'class_ids': array([0]), 'classes': array([b'0'], dtype=object), 'all_class_ids': array([0, 1], dtype=int32), 'all_classes': array([b'0', b'1'], dtype=object)}, {'logits': array([-1.7067977], dtype=float32), 'logistic': array([0.15357953], dtype=float32), 'probabilities': array([0.8464204 , 0.15357952], dtype=float32), 'class_ids': array([0]), 'classes': array([b'0'], dtype=object), 'all_class_ids': array([0, 1], dtype=int32), 'all_classes': array([b'0', b'1'], dtype=object)}, {'logits': array([-1.1865505], dtype=float32), 'logistic': array([0.23387645], dtype=float32), 'probabilities': array([0.7661236 , 0.23387645], dtype=float32), 'class_ids': array([0]), 'classes': array([b'0'], dtype=object), 'all_class_ids': array([0, 1], dtype=int32), 'all_classes': array([b'0', b'1'], dtype=object)}, {'logits': array([-1.7781132], dtype=float32), 'logistic': array([0.14453626], dtype=float32), 'probabilities': array([0.85546374, 0.14453627], dtype=float32), 'class_ids': array([0]), 'classes': array([b'0'], dtype=object), 'all_class_ids': array([0, 1], dtype=int32), 'all_classes': array([b'0', b'1'], dtype=object)}, {'logits': array([-1.7238792], dtype=float32), 'logistic': array([0.15137218], dtype=float32), 'probabilities': array([0.84862787, 0.15137218], dtype=float32), 'class_ids': array([0]), 'classes': array([b'0'], dtype=object), 'all_class_ids': array([0, 1], dtype=int32), 'all_classes': array([b'0', b'1'], dtype=object)}, {'logits': array([-1.0822643], dtype=float32), 'logistic': array([0.25307775], dtype=float32), 'probabilities': array([0.7469222 , 0.25307775], dtype=float32), 'class_ids': array([0]), 'classes': array([b'0'], dtype=object), 'all_class_ids': array([0, 1], dtype=int32), 'all_classes': array([b'0', b'1'], dtype=object)}, {'logits': array([1.2091876], dtype=float32), 'logistic': array([0.7701552], dtype=float32), 'probabilities': array([0.22984482, 0.7701552 ], dtype=float32), 'class_ids': array([1]), 'classes': array([b'1'], dtype=object), 'all_class_ids': array([0, 1], dtype=int32), 'all_classes': array([b'0', b'1'], dtype=object)}, {'logits': array([2.887698], dtype=float32), 'logistic': array([0.9472349], dtype=float32), 'probabilities': array([0.05276506, 0.94723487], dtype=float32), 'class_ids': array([1]), 'classes': array([b'1'], dtype=object), 'all_class_ids': array([0, 1], dtype=int32), 'all_classes': array([b'0', b'1'], dtype=object)}, {'logits': array([0.9437561], dtype=float32), 'logistic': array([0.71985775], dtype=float32), 'probabilities': array([0.28014222, 0.71985763], dtype=float32), 'class_ids': array([1]), 'classes': array([b'1'], dtype=object), 'all_class_ids': array([0, 1], dtype=int32), 'all_classes': array([b'0', b'1'], dtype=object)}, {'logits': array([-0.0827882], dtype=float32), 'logistic': array([0.47931474], dtype=float32), 'probabilities': array([0.52068526, 0.47931474], dtype=float32), 'class_ids': array([0]), 'classes': array([b'0'], dtype=object), 'all_class_ids': array([0, 1], dtype=int32), 'all_classes': array([b'0', b'1'], dtype=object)}, {'logits': array([-1.1241796], dtype=float32), 'logistic': array([0.24523683], dtype=float32), 'probabilities': array([0.75476307, 0.2452368 ], dtype=float32), 'class_ids': array([0]), 'classes': array([b'0'], dtype=object), 'all_class_ids': array([0, 1], dtype=int32), 'all_classes': array([b'0', b'1'], dtype=object)}, {'logits': array([1.5194882], dtype=float32), 'logistic': array([0.8204631], dtype=float32), 'probabilities': array([0.1795369, 0.8204631], dtype=float32), 'class_ids': array([1]), 'classes': array([b'1'], dtype=object), 'all_class_ids': array([0, 1], dtype=int32), 'all_classes': array([b'0', b'1'], dtype=object)}, {'logits': array([-1.9014364], dtype=float32), 'logistic': array([0.12994598], dtype=float32), 'probabilities': array([0.870054  , 0.12994598], dtype=float32), 'class_ids': array([0]), 'classes': array([b'0'], dtype=object), 'all_class_ids': array([0, 1], dtype=int32), 'all_classes': array([b'0', b'1'], dtype=object)}, {'logits': array([-1.1577004], dtype=float32), 'logistic': array([0.23908539], dtype=float32), 'probabilities': array([0.7609146 , 0.23908539], dtype=float32), 'class_ids': array([0]), 'classes': array([b'0'], dtype=object), 'all_class_ids': array([0, 1], dtype=int32), 'all_classes': array([b'0', b'1'], dtype=object)}, {'logits': array([0.9362161], dtype=float32), 'logistic': array([0.7183347], dtype=float32), 'probabilities': array([0.2816653, 0.7183347], dtype=float32), 'class_ids': array([1]), 'classes': array([b'1'], dtype=object), 'all_class_ids': array([0, 1], dtype=int32), 'all_classes': array([b'0', b'1'], dtype=object)}, {'logits': array([-1.1575564], dtype=float32), 'logistic': array([0.23911159], dtype=float32), 'probabilities': array([0.7608884 , 0.23911157], dtype=float32), 'class_ids': array([0]), 'classes': array([b'0'], dtype=object), 'all_class_ids': array([0, 1], dtype=int32), 'all_classes': array([b'0', b'1'], dtype=object)}, {'logits': array([1.9239582], dtype=float32), 'logistic': array([0.87257916], dtype=float32), 'probabilities': array([0.12742084, 0.8725792 ], dtype=float32), 'class_ids': array([1]), 'classes': array([b'1'], dtype=object), 'all_class_ids': array([0, 1], dtype=int32), 'all_classes': array([b'0', b'1'], dtype=object)}, {'logits': array([2.2581718], dtype=float32), 'logistic': array([0.90535307], dtype=float32), 'probabilities': array([0.0946469, 0.905353 ], dtype=float32), 'class_ids': array([1]), 'classes': array([b'1'], dtype=object), 'all_class_ids': array([0, 1], dtype=int32), 'all_classes': array([b'0', b'1'], dtype=object)}, {'logits': array([2.9506872], dtype=float32), 'logistic': array([0.950296], dtype=float32), 'probabilities': array([0.04970405, 0.9502959 ], dtype=float32), 'class_ids': array([1]), 'classes': array([b'1'], dtype=object), 'all_class_ids': array([0, 1], dtype=int32), 'all_classes': array([b'0', b'1'], dtype=object)}, {'logits': array([-0.76250285], dtype=float32), 'logistic': array([0.3181031], dtype=float32), 'probabilities': array([0.68189687, 0.3181031 ], dtype=float32), 'class_ids': array([0]), 'classes': array([b'0'], dtype=object), 'all_class_ids': array([0, 1], dtype=int32), 'all_classes': array([b'0', b'1'], dtype=object)}, {'logits': array([-2.0566945], dtype=float32), 'logistic': array([0.11337769], dtype=float32), 'probabilities': array([0.88662237, 0.1133777 ], dtype=float32), 'class_ids': array([0]), 'classes': array([b'0'], dtype=object), 'all_class_ids': array([0, 1], dtype=int32), 'all_classes': array([b'0', b'1'], dtype=object)}, {'logits': array([3.032857], dtype=float32), 'logistic': array([0.9540366], dtype=float32), 'probabilities': array([0.04596338, 0.9540366 ], dtype=float32), 'class_ids': array([1]), 'classes': array([b'1'], dtype=object), 'all_class_ids': array([0, 1], dtype=int32), 'all_classes': array([b'0', b'1'], dtype=object)}, {'logits': array([-0.41370383], dtype=float32), 'logistic': array([0.39802438], dtype=float32), 'probabilities': array([0.6019756 , 0.39802432], dtype=float32), 'class_ids': array([0]), 'classes': array([b'0'], dtype=object), 'all_class_ids': array([0, 1], dtype=int32), 'all_classes': array([b'0', b'1'], dtype=object)}, {'logits': array([0.05407402], dtype=float32), 'logistic': array([0.51351523], dtype=float32), 'probabilities': array([0.48648477, 0.5135152 ], dtype=float32), 'class_ids': array([1]), 'classes': array([b'1'], dtype=object), 'all_class_ids': array([0, 1], dtype=int32), 'all_classes': array([b'0', b'1'], dtype=object)}, {'logits': array([-1.5621377], dtype=float32), 'logistic': array([0.17334011], dtype=float32), 'probabilities': array([0.82665986, 0.1733401 ], dtype=float32), 'class_ids': array([0]), 'classes': array([b'0'], dtype=object), 'all_class_ids': array([0, 1], dtype=int32), 'all_classes': array([b'0', b'1'], dtype=object)}, {'logits': array([-1.8454882], dtype=float32), 'logistic': array([0.1364035], dtype=float32), 'probabilities': array([0.8635964 , 0.13640349], dtype=float32), 'class_ids': array([0]), 'classes': array([b'0'], dtype=object), 'all_class_ids': array([0, 1], dtype=int32), 'all_classes': array([b'0', b'1'], dtype=object)}, {'logits': array([-1.7355214], dtype=float32), 'logistic': array([0.14988269], dtype=float32), 'probabilities': array([0.85011727, 0.14988269], dtype=float32), 'class_ids': array([0]), 'classes': array([b'0'], dtype=object), 'all_class_ids': array([0, 1], dtype=int32), 'all_classes': array([b'0', b'1'], dtype=object)}, {'logits': array([-0.68699133], dtype=float32), 'logistic': array([0.3347027], dtype=float32), 'probabilities': array([0.6652973, 0.3347027], dtype=float32), 'class_ids': array([0]), 'classes': array([b'0'], dtype=object), 'all_class_ids': array([0, 1], dtype=int32), 'all_classes': array([b'0', b'1'], dtype=object)}, {'logits': array([-1.7684189], dtype=float32), 'logistic': array([0.14573906], dtype=float32), 'probabilities': array([0.85426086, 0.14573905], dtype=float32), 'class_ids': array([0]), 'classes': array([b'0'], dtype=object), 'all_class_ids': array([0, 1], dtype=int32), 'all_classes': array([b'0', b'1'], dtype=object)}, {'logits': array([0.80159193], dtype=float32), 'logistic': array([0.6903149], dtype=float32), 'probabilities': array([0.30968508, 0.6903149 ], dtype=float32), 'class_ids': array([1]), 'classes': array([b'1'], dtype=object), 'all_class_ids': array([0, 1], dtype=int32), 'all_classes': array([b'0', b'1'], dtype=object)}, {'logits': array([-0.51225096], dtype=float32), 'logistic': array([0.374666], dtype=float32), 'probabilities': array([0.625334, 0.374666], dtype=float32), 'class_ids': array([0]), 'classes': array([b'0'], dtype=object), 'all_class_ids': array([0, 1], dtype=int32), 'all_classes': array([b'0', b'1'], dtype=object)}, {'logits': array([0.24406049], dtype=float32), 'logistic': array([0.56071407], dtype=float32), 'probabilities': array([0.43928596, 0.56071407], dtype=float32), 'class_ids': array([1]), 'classes': array([b'1'], dtype=object), 'all_class_ids': array([0, 1], dtype=int32), 'all_classes': array([b'0', b'1'], dtype=object)}, {'logits': array([0.96248055], dtype=float32), 'logistic': array([0.72361815], dtype=float32), 'probabilities': array([0.27638182, 0.7236182 ], dtype=float32), 'class_ids': array([1]), 'classes': array([b'1'], dtype=object), 'all_class_ids': array([0, 1], dtype=int32), 'all_classes': array([b'0', b'1'], dtype=object)}, {'logits': array([-1.0896167], dtype=float32), 'logistic': array([0.25169048], dtype=float32), 'probabilities': array([0.7483095 , 0.25169045], dtype=float32), 'class_ids': array([0]), 'classes': array([b'0'], dtype=object), 'all_class_ids': array([0, 1], dtype=int32), 'all_classes': array([b'0', b'1'], dtype=object)}, {'logits': array([1.3629143], dtype=float32), 'logistic': array([0.79623294], dtype=float32), 'probabilities': array([0.20376706, 0.79623294], dtype=float32), 'class_ids': array([1]), 'classes': array([b'1'], dtype=object), 'all_class_ids': array([0, 1], dtype=int32), 'all_classes': array([b'0', b'1'], dtype=object)}, {'logits': array([1.8661067], dtype=float32), 'logistic': array([0.86600715], dtype=float32), 'probabilities': array([0.13399287, 0.8660072 ], dtype=float32), 'class_ids': array([1]), 'classes': array([b'1'], dtype=object), 'all_class_ids': array([0, 1], dtype=int32), 'all_classes': array([b'0', b'1'], dtype=object)}, {'logits': array([1.6368046], dtype=float32), 'logistic': array([0.8370997], dtype=float32), 'probabilities': array([0.16290034, 0.83709973], dtype=float32), 'class_ids': array([1]), 'classes': array([b'1'], dtype=object), 'all_class_ids': array([0, 1], dtype=int32), 'all_classes': array([b'0', b'1'], dtype=object)}, {'logits': array([-2.0842683], dtype=float32), 'logistic': array([0.11063528], dtype=float32), 'probabilities': array([0.88936466, 0.11063528], dtype=float32), 'class_ids': array([0]), 'classes': array([b'0'], dtype=object), 'all_class_ids': array([0, 1], dtype=int32), 'all_classes': array([b'0', b'1'], dtype=object)}, {'logits': array([1.6856349], dtype=float32), 'logistic': array([0.8436492], dtype=float32), 'probabilities': array([0.15635076, 0.84364927], dtype=float32), 'class_ids': array([1]), 'classes': array([b'1'], dtype=object), 'all_class_ids': array([0, 1], dtype=int32), 'all_classes': array([b'0', b'1'], dtype=object)}, {'logits': array([0.97433597], dtype=float32), 'logistic': array([0.7259829], dtype=float32), 'probabilities': array([0.2740171, 0.7259829], dtype=float32), 'class_ids': array([1]), 'classes': array([b'1'], dtype=object), 'all_class_ids': array([0, 1], dtype=int32), 'all_classes': array([b'0', b'1'], dtype=object)}, {'logits': array([0.9682251], dtype=float32), 'logistic': array([0.7247656], dtype=float32), 'probabilities': array([0.2752344 , 0.72476554], dtype=float32), 'class_ids': array([1]), 'classes': array([b'1'], dtype=object), 'all_class_ids': array([0, 1], dtype=int32), 'all_classes': array([b'0', b'1'], dtype=object)}, {'logits': array([-1.8947941], dtype=float32), 'logistic': array([0.13069881], dtype=float32), 'probabilities': array([0.8693012 , 0.13069881], dtype=float32), 'class_ids': array([0]), 'classes': array([b'0'], dtype=object), 'all_class_ids': array([0, 1], dtype=int32), 'all_classes': array([b'0', b'1'], dtype=object)}, {'logits': array([1.9959313], dtype=float32), 'logistic': array([0.88036925], dtype=float32), 'probabilities': array([0.11963078, 0.8803693 ], dtype=float32), 'class_ids': array([1]), 'classes': array([b'1'], dtype=object), 'all_class_ids': array([0, 1], dtype=int32), 'all_classes': array([b'0', b'1'], dtype=object)}, {'logits': array([0.6677483], dtype=float32), 'logistic': array([0.66099876], dtype=float32), 'probabilities': array([0.3390012 , 0.66099876], dtype=float32), 'class_ids': array([1]), 'classes': array([b'1'], dtype=object), 'all_class_ids': array([0, 1], dtype=int32), 'all_classes': array([b'0', b'1'], dtype=object)}, {'logits': array([-1.7651964], dtype=float32), 'logistic': array([0.14614071], dtype=float32), 'probabilities': array([0.85385925, 0.14614071], dtype=float32), 'class_ids': array([0]), 'classes': array([b'0'], dtype=object), 'all_class_ids': array([0, 1], dtype=int32), 'all_classes': array([b'0', b'1'], dtype=object)}, {'logits': array([0.98002017], dtype=float32), 'logistic': array([0.72711223], dtype=float32), 'probabilities': array([0.2728878 , 0.72711223], dtype=float32), 'class_ids': array([1]), 'classes': array([b'1'], dtype=object), 'all_class_ids': array([0, 1], dtype=int32), 'all_classes': array([b'0', b'1'], dtype=object)}, {'logits': array([-1.7565883], dtype=float32), 'logistic': array([0.14721815], dtype=float32), 'probabilities': array([0.8527819 , 0.14721815], dtype=float32), 'class_ids': array([0]), 'classes': array([b'0'], dtype=object), 'all_class_ids': array([0, 1], dtype=int32), 'all_classes': array([b'0', b'1'], dtype=object)}, {'logits': array([1.6451496], dtype=float32), 'logistic': array([0.8382344], dtype=float32), 'probabilities': array([0.16176558, 0.8382345 ], dtype=float32), 'class_ids': array([1]), 'classes': array([b'1'], dtype=object), 'all_class_ids': array([0, 1], dtype=int32), 'all_classes': array([b'0', b'1'], dtype=object)}, {'logits': array([0.3809931], dtype=float32), 'logistic': array([0.59411263], dtype=float32), 'probabilities': array([0.40588734, 0.5941125 ], dtype=float32), 'class_ids': array([1]), 'classes': array([b'1'], dtype=object), 'all_class_ids': array([0, 1], dtype=int32), 'all_classes': array([b'0', b'1'], dtype=object)}, {'logits': array([-1.7240696], dtype=float32), 'logistic': array([0.15134771], dtype=float32), 'probabilities': array([0.84865224, 0.15134771], dtype=float32), 'class_ids': array([0]), 'classes': array([b'0'], dtype=object), 'all_class_ids': array([0, 1], dtype=int32), 'all_classes': array([b'0', b'1'], dtype=object)}, {'logits': array([-0.65914243], dtype=float32), 'logistic': array([0.34093228], dtype=float32), 'probabilities': array([0.65906775, 0.34093225], dtype=float32), 'class_ids': array([0]), 'classes': array([b'0'], dtype=object), 'all_class_ids': array([0, 1], dtype=int32), 'all_classes': array([b'0', b'1'], dtype=object)}, {'logits': array([1.6645129], dtype=float32), 'logistic': array([0.8408429], dtype=float32), 'probabilities': array([0.15915711, 0.84084284], dtype=float32), 'class_ids': array([1]), 'classes': array([b'1'], dtype=object), 'all_class_ids': array([0, 1], dtype=int32), 'all_classes': array([b'0', b'1'], dtype=object)}, {'logits': array([-1.7943449], dtype=float32), 'logistic': array([0.14254086], dtype=float32), 'probabilities': array([0.8574592 , 0.14254087], dtype=float32), 'class_ids': array([0]), 'classes': array([b'0'], dtype=object), 'all_class_ids': array([0, 1], dtype=int32), 'all_classes': array([b'0', b'1'], dtype=object)}, {'logits': array([-1.7600352], dtype=float32), 'logistic': array([0.14678594], dtype=float32), 'probabilities': array([0.8532141 , 0.14678594], dtype=float32), 'class_ids': array([0]), 'classes': array([b'0'], dtype=object), 'all_class_ids': array([0, 1], dtype=int32), 'all_classes': array([b'0', b'1'], dtype=object)}, {'logits': array([1.5647621], dtype=float32), 'logistic': array([0.8270356], dtype=float32), 'probabilities': array([0.17296436, 0.8270356 ], dtype=float32), 'class_ids': array([1]), 'classes': array([b'1'], dtype=object), 'all_class_ids': array([0, 1], dtype=int32), 'all_classes': array([b'0', b'1'], dtype=object)}, {'logits': array([-1.5098813], dtype=float32), 'logistic': array([0.1809564], dtype=float32), 'probabilities': array([0.81904364, 0.1809564 ], dtype=float32), 'class_ids': array([0]), 'classes': array([b'0'], dtype=object), 'all_class_ids': array([0, 1], dtype=int32), 'all_classes': array([b'0', b'1'], dtype=object)}, {'logits': array([-1.1177561], dtype=float32), 'logistic': array([0.24642773], dtype=float32), 'probabilities': array([0.7535723 , 0.24642774], dtype=float32), 'class_ids': array([0]), 'classes': array([b'0'], dtype=object), 'all_class_ids': array([0, 1], dtype=int32), 'all_classes': array([b'0', b'1'], dtype=object)}, {'logits': array([-0.9434383], dtype=float32), 'logistic': array([0.28020635], dtype=float32), 'probabilities': array([0.7197937 , 0.28020635], dtype=float32), 'class_ids': array([0]), 'classes': array([b'0'], dtype=object), 'all_class_ids': array([0, 1], dtype=int32), 'all_classes': array([b'0', b'1'], dtype=object)}, {'logits': array([-1.821827], dtype=float32), 'logistic': array([0.13921478], dtype=float32), 'probabilities': array([0.8607852 , 0.13921478], dtype=float32), 'class_ids': array([0]), 'classes': array([b'0'], dtype=object), 'all_class_ids': array([0, 1], dtype=int32), 'all_classes': array([b'0', b'1'], dtype=object)}, {'logits': array([0.951332], dtype=float32), 'logistic': array([0.721383], dtype=float32), 'probabilities': array([0.278617 , 0.7213829], dtype=float32), 'class_ids': array([1]), 'classes': array([b'1'], dtype=object), 'all_class_ids': array([0, 1], dtype=int32), 'all_classes': array([b'0', b'1'], dtype=object)}, {'logits': array([-1.7222635], dtype=float32), 'logistic': array([0.15157984], dtype=float32), 'probabilities': array([0.8484201 , 0.15157984], dtype=float32), 'class_ids': array([0]), 'classes': array([b'0'], dtype=object), 'all_class_ids': array([0, 1], dtype=int32), 'all_classes': array([b'0', b'1'], dtype=object)}, {'logits': array([-1.8901714], dtype=float32), 'logistic': array([0.13122493], dtype=float32), 'probabilities': array([0.868775  , 0.13122492], dtype=float32), 'class_ids': array([0]), 'classes': array([b'0'], dtype=object), 'all_class_ids': array([0, 1], dtype=int32), 'all_classes': array([b'0', b'1'], dtype=object)}, {'logits': array([-1.7718657], dtype=float32), 'logistic': array([0.14531046], dtype=float32), 'probabilities': array([0.85468954, 0.14531046], dtype=float32), 'class_ids': array([0]), 'classes': array([b'0'], dtype=object), 'all_class_ids': array([0, 1], dtype=int32), 'all_classes': array([b'0', b'1'], dtype=object)}, {'logits': array([-1.7151812], dtype=float32), 'logistic': array([0.15249288], dtype=float32), 'probabilities': array([0.8475071, 0.1524929], dtype=float32), 'class_ids': array([0]), 'classes': array([b'0'], dtype=object), 'all_class_ids': array([0, 1], dtype=int32), 'all_classes': array([b'0', b'1'], dtype=object)}, {'logits': array([-0.8273153], dtype=float32), 'logistic': array([0.30421305], dtype=float32), 'probabilities': array([0.69578695, 0.30421305], dtype=float32), 'class_ids': array([0]), 'classes': array([b'0'], dtype=object), 'all_class_ids': array([0, 1], dtype=int32), 'all_classes': array([b'0', b'1'], dtype=object)}, {'logits': array([-1.1819459], dtype=float32), 'logistic': array([0.2347025], dtype=float32), 'probabilities': array([0.7652974 , 0.23470248], dtype=float32), 'class_ids': array([0]), 'classes': array([b'0'], dtype=object), 'all_class_ids': array([0, 1], dtype=int32), 'all_classes': array([b'0', b'1'], dtype=object)}, {'logits': array([2.8676105], dtype=float32), 'logistic': array([0.9462219], dtype=float32), 'probabilities': array([0.05377812, 0.9462218 ], dtype=float32), 'class_ids': array([1]), 'classes': array([b'1'], dtype=object), 'all_class_ids': array([0, 1], dtype=int32), 'all_classes': array([b'0', b'1'], dtype=object)}, {'logits': array([-1.7904111], dtype=float32), 'logistic': array([0.14302233], dtype=float32), 'probabilities': array([0.8569776 , 0.14302231], dtype=float32), 'class_ids': array([0]), 'classes': array([b'0'], dtype=object), 'all_class_ids': array([0, 1], dtype=int32), 'all_classes': array([b'0', b'1'], dtype=object)}, {'logits': array([-1.7352787], dtype=float32), 'logistic': array([0.14991361], dtype=float32), 'probabilities': array([0.85008633, 0.14991361], dtype=float32), 'class_ids': array([0]), 'classes': array([b'0'], dtype=object), 'all_class_ids': array([0, 1], dtype=int32), 'all_classes': array([b'0', b'1'], dtype=object)}, {'logits': array([1.1742164], dtype=float32), 'logistic': array([0.76390636], dtype=float32), 'probabilities': array([0.2360937, 0.7639063], dtype=float32), 'class_ids': array([1]), 'classes': array([b'1'], dtype=object), 'all_class_ids': array([0, 1], dtype=int32), 'all_classes': array([b'0', b'1'], dtype=object)}, {'logits': array([2.3024387], dtype=float32), 'logistic': array([0.90907884], dtype=float32), 'probabilities': array([0.09092118, 0.9090788 ], dtype=float32), 'class_ids': array([1]), 'classes': array([b'1'], dtype=object), 'all_class_ids': array([0, 1], dtype=int32), 'all_classes': array([b'0', b'1'], dtype=object)}, {'logits': array([-1.8224026], dtype=float32), 'logistic': array([0.13914582], dtype=float32), 'probabilities': array([0.86085415, 0.13914582], dtype=float32), 'class_ids': array([0]), 'classes': array([b'0'], dtype=object), 'all_class_ids': array([0, 1], dtype=int32), 'all_classes': array([b'0', b'1'], dtype=object)}, {'logits': array([-1.5157965], dtype=float32), 'logistic': array([0.18008134], dtype=float32), 'probabilities': array([0.8199187 , 0.18008134], dtype=float32), 'class_ids': array([0]), 'classes': array([b'0'], dtype=object), 'all_class_ids': array([0, 1], dtype=int32), 'all_classes': array([b'0', b'1'], dtype=object)}, {'logits': array([-1.7600352], dtype=float32), 'logistic': array([0.14678594], dtype=float32), 'probabilities': array([0.8532141 , 0.14678594], dtype=float32), 'class_ids': array([0]), 'classes': array([b'0'], dtype=object), 'all_class_ids': array([0, 1], dtype=int32), 'all_classes': array([b'0', b'1'], dtype=object)}, {'logits': array([0.2394031], dtype=float32), 'logistic': array([0.55956656], dtype=float32), 'probabilities': array([0.44043344, 0.55956656], dtype=float32), 'class_ids': array([1]), 'classes': array([b'1'], dtype=object), 'all_class_ids': array([0, 1], dtype=int32), 'all_classes': array([b'0', b'1'], dtype=object)}, {'logits': array([-1.5805427], dtype=float32), 'logistic': array([0.17071864], dtype=float32), 'probabilities': array([0.82928133, 0.17071864], dtype=float32), 'class_ids': array([0]), 'classes': array([b'0'], dtype=object), 'all_class_ids': array([0, 1], dtype=int32), 'all_classes': array([b'0', b'1'], dtype=object)}, {'logits': array([-1.1507803], dtype=float32), 'logistic': array([0.2403466], dtype=float32), 'probabilities': array([0.7596534 , 0.24034658], dtype=float32), 'class_ids': array([0]), 'classes': array([b'0'], dtype=object), 'all_class_ids': array([0, 1], dtype=int32), 'all_classes': array([b'0', b'1'], dtype=object)}, {'logits': array([-1.8245648], dtype=float32), 'logistic': array([0.13888703], dtype=float32), 'probabilities': array([0.86111295, 0.13888703], dtype=float32), 'class_ids': array([0]), 'classes': array([b'0'], dtype=object), 'all_class_ids': array([0, 1], dtype=int32), 'all_classes': array([b'0', b'1'], dtype=object)}, {'logits': array([-1.1507984], dtype=float32), 'logistic': array([0.24034326], dtype=float32), 'probabilities': array([0.75965667, 0.24034326], dtype=float32), 'class_ids': array([0]), 'classes': array([b'0'], dtype=object), 'all_class_ids': array([0, 1], dtype=int32), 'all_classes': array([b'0', b'1'], dtype=object)}, {'logits': array([-1.787826], dtype=float32), 'logistic': array([0.14333947], dtype=float32), 'probabilities': array([0.8566604 , 0.14333946], dtype=float32), 'class_ids': array([0]), 'classes': array([b'0'], dtype=object), 'all_class_ids': array([0, 1], dtype=int32), 'all_classes': array([b'0', b'1'], dtype=object)}, {'logits': array([-1.0620887], dtype=float32), 'logistic': array([0.2569105], dtype=float32), 'probabilities': array([0.74308944, 0.25691047], dtype=float32), 'class_ids': array([0]), 'classes': array([b'0'], dtype=object), 'all_class_ids': array([0, 1], dtype=int32), 'all_classes': array([b'0', b'1'], dtype=object)}, {'logits': array([-0.89402443], dtype=float32), 'logistic': array([0.29028004], dtype=float32), 'probabilities': array([0.70972   , 0.29028004], dtype=float32), 'class_ids': array([0]), 'classes': array([b'0'], dtype=object), 'all_class_ids': array([0, 1], dtype=int32), 'all_classes': array([b'0', b'1'], dtype=object)}, {'logits': array([-0.8996366], dtype=float32), 'logistic': array([0.28912517], dtype=float32), 'probabilities': array([0.7108748 , 0.28912517], dtype=float32), 'class_ids': array([0]), 'classes': array([b'0'], dtype=object), 'all_class_ids': array([0, 1], dtype=int32), 'all_classes': array([b'0', b'1'], dtype=object)}, {'logits': array([-1.1152886], dtype=float32), 'logistic': array([0.24688625], dtype=float32), 'probabilities': array([0.7531137 , 0.24688622], dtype=float32), 'class_ids': array([0]), 'classes': array([b'0'], dtype=object), 'all_class_ids': array([0, 1], dtype=int32), 'all_classes': array([b'0', b'1'], dtype=object)}, {'logits': array([-0.8845636], dtype=float32), 'logistic': array([0.292233], dtype=float32), 'probabilities': array([0.70776707, 0.292233  ], dtype=float32), 'class_ids': array([0]), 'classes': array([b'0'], dtype=object), 'all_class_ids': array([0, 1], dtype=int32), 'all_classes': array([b'0', b'1'], dtype=object)}, {'logits': array([-1.0016047], dtype=float32), 'logistic': array([0.26862603], dtype=float32), 'probabilities': array([0.73137397, 0.26862603], dtype=float32), 'class_ids': array([0]), 'classes': array([b'0'], dtype=object), 'all_class_ids': array([0, 1], dtype=int32), 'all_classes': array([b'0', b'1'], dtype=object)}, {'logits': array([0.9235419], dtype=float32), 'logistic': array([0.7157632], dtype=float32), 'probabilities': array([0.28423676, 0.7157633 ], dtype=float32), 'class_ids': array([1]), 'classes': array([b'1'], dtype=object), 'all_class_ids': array([0, 1], dtype=int32), 'all_classes': array([b'0', b'1'], dtype=object)}, {'logits': array([-1.1507984], dtype=float32), 'logistic': array([0.24034326], dtype=float32), 'probabilities': array([0.75965667, 0.24034326], dtype=float32), 'class_ids': array([0]), 'classes': array([b'0'], dtype=object), 'all_class_ids': array([0, 1], dtype=int32), 'all_classes': array([b'0', b'1'], dtype=object)}, {'logits': array([1.1736959], dtype=float32), 'logistic': array([0.7638124], dtype=float32), 'probabilities': array([0.23618756, 0.7638124 ], dtype=float32), 'class_ids': array([1]), 'classes': array([b'1'], dtype=object), 'all_class_ids': array([0, 1], dtype=int32), 'all_classes': array([b'0', b'1'], dtype=object)}, {'logits': array([-1.7345883], dtype=float32), 'logistic': array([0.15000162], dtype=float32), 'probabilities': array([0.8499983 , 0.15000162], dtype=float32), 'class_ids': array([0]), 'classes': array([b'0'], dtype=object), 'all_class_ids': array([0, 1], dtype=int32), 'all_classes': array([b'0', b'1'], dtype=object)}, {'logits': array([2.79468], dtype=float32), 'logistic': array([0.94238764], dtype=float32), 'probabilities': array([0.05761233, 0.9423877 ], dtype=float32), 'class_ids': array([1]), 'classes': array([b'1'], dtype=object), 'all_class_ids': array([0, 1], dtype=int32), 'all_classes': array([b'0', b'1'], dtype=object)}, {'logits': array([1.5186663], dtype=float32), 'logistic': array([0.820342], dtype=float32), 'probabilities': array([0.179658, 0.820342], dtype=float32), 'class_ids': array([1]), 'classes': array([b'1'], dtype=object), 'all_class_ids': array([0, 1], dtype=int32), 'all_classes': array([b'0', b'1'], dtype=object)}, {'logits': array([-1.7831577], dtype=float32), 'logistic': array([0.14391367], dtype=float32), 'probabilities': array([0.85608643, 0.14391367], dtype=float32), 'class_ids': array([0]), 'classes': array([b'0'], dtype=object), 'all_class_ids': array([0, 1], dtype=int32), 'all_classes': array([b'0', b'1'], dtype=object)}, {'logits': array([2.2941031], dtype=float32), 'logistic': array([0.9083875], dtype=float32), 'probabilities': array([0.09161252, 0.9083875 ], dtype=float32), 'class_ids': array([1]), 'classes': array([b'1'], dtype=object), 'all_class_ids': array([0, 1], dtype=int32), 'all_classes': array([b'0', b'1'], dtype=object)}, {'logits': array([-1.2092599], dtype=float32), 'logistic': array([0.22983204], dtype=float32), 'probabilities': array([0.77016795, 0.22983204], dtype=float32), 'class_ids': array([0]), 'classes': array([b'0'], dtype=object), 'all_class_ids': array([0, 1], dtype=int32), 'all_classes': array([b'0', b'1'], dtype=object)}, {'logits': array([-1.1571895], dtype=float32), 'logistic': array([0.23917834], dtype=float32), 'probabilities': array([0.76082164, 0.23917834], dtype=float32), 'class_ids': array([0]), 'classes': array([b'0'], dtype=object), 'all_class_ids': array([0, 1], dtype=int32), 'all_classes': array([b'0', b'1'], dtype=object)}, {'logits': array([2.5066364], dtype=float32), 'logistic': array([0.9246057], dtype=float32), 'probabilities': array([0.07539424, 0.92460567], dtype=float32), 'class_ids': array([1]), 'classes': array([b'1'], dtype=object), 'all_class_ids': array([0, 1], dtype=int32), 'all_classes': array([b'0', b'1'], dtype=object)}, {'logits': array([-1.7245435], dtype=float32), 'logistic': array([0.15128687], dtype=float32), 'probabilities': array([0.84871316, 0.15128687], dtype=float32), 'class_ids': array([0]), 'classes': array([b'0'], dtype=object), 'all_class_ids': array([0, 1], dtype=int32), 'all_classes': array([b'0', b'1'], dtype=object)}, {'logits': array([1.3894986], dtype=float32), 'logistic': array([0.8005122], dtype=float32), 'probabilities': array([0.19948782, 0.8005122 ], dtype=float32), 'class_ids': array([1]), 'classes': array([b'1'], dtype=object), 'all_class_ids': array([0, 1], dtype=int32), 'all_classes': array([b'0', b'1'], dtype=object)}, {'logits': array([-1.7593709], dtype=float32), 'logistic': array([0.14686915], dtype=float32), 'probabilities': array([0.8531309 , 0.14686915], dtype=float32), 'class_ids': array([0]), 'classes': array([b'0'], dtype=object), 'all_class_ids': array([0, 1], dtype=int32), 'all_classes': array([b'0', b'1'], dtype=object)}, {'logits': array([-0.75173557], dtype=float32), 'logistic': array([0.32044324], dtype=float32), 'probabilities': array([0.6795568 , 0.32044327], dtype=float32), 'class_ids': array([0]), 'classes': array([b'0'], dtype=object), 'all_class_ids': array([0, 1], dtype=int32), 'all_classes': array([b'0', b'1'], dtype=object)}, {'logits': array([-1.8546797], dtype=float32), 'logistic': array([0.13532439], dtype=float32), 'probabilities': array([0.8646756 , 0.13532437], dtype=float32), 'class_ids': array([0]), 'classes': array([b'0'], dtype=object), 'all_class_ids': array([0, 1], dtype=int32), 'all_classes': array([b'0', b'1'], dtype=object)}, {'logits': array([-1.5098813], dtype=float32), 'logistic': array([0.1809564], dtype=float32), 'probabilities': array([0.81904364, 0.1809564 ], dtype=float32), 'class_ids': array([0]), 'classes': array([b'0'], dtype=object), 'all_class_ids': array([0, 1], dtype=int32), 'all_classes': array([b'0', b'1'], dtype=object)}, {'logits': array([0.917723], dtype=float32), 'logistic': array([0.7145779], dtype=float32), 'probabilities': array([0.28542206, 0.71457785], dtype=float32), 'class_ids': array([1]), 'classes': array([b'1'], dtype=object), 'all_class_ids': array([0, 1], dtype=int32), 'all_classes': array([b'0', b'1'], dtype=object)}, {'logits': array([1.8602241], dtype=float32), 'logistic': array([0.86532307], dtype=float32), 'probabilities': array([0.13467692, 0.865323  ], dtype=float32), 'class_ids': array([1]), 'classes': array([b'1'], dtype=object), 'all_class_ids': array([0, 1], dtype=int32), 'all_classes': array([b'0', b'1'], dtype=object)}, {'logits': array([-1.158978], dtype=float32), 'logistic': array([0.23885304], dtype=float32), 'probabilities': array([0.7611469 , 0.23885304], dtype=float32), 'class_ids': array([0]), 'classes': array([b'0'], dtype=object), 'all_class_ids': array([0, 1], dtype=int32), 'all_classes': array([b'0', b'1'], dtype=object)}, {'logits': array([-0.23989788], dtype=float32), 'logistic': array([0.44031152], dtype=float32), 'probabilities': array([0.55968845, 0.44031152], dtype=float32), 'class_ids': array([0]), 'classes': array([b'0'], dtype=object), 'all_class_ids': array([0, 1], dtype=int32), 'all_classes': array([b'0', b'1'], dtype=object)}, {'logits': array([-1.7177845], dtype=float32), 'logistic': array([0.15215676], dtype=float32), 'probabilities': array([0.8478433 , 0.15215676], dtype=float32), 'class_ids': array([0]), 'classes': array([b'0'], dtype=object), 'all_class_ids': array([0, 1], dtype=int32), 'all_classes': array([b'0', b'1'], dtype=object)}, {'logits': array([-1.7533127], dtype=float32), 'logistic': array([0.14762987], dtype=float32), 'probabilities': array([0.85237014, 0.14762986], dtype=float32), 'class_ids': array([0]), 'classes': array([b'0'], dtype=object), 'all_class_ids': array([0, 1], dtype=int32), 'all_classes': array([b'0', b'1'], dtype=object)}, {'logits': array([-0.5690499], dtype=float32), 'logistic': array([0.3614561], dtype=float32), 'probabilities': array([0.63854384, 0.36145607], dtype=float32), 'class_ids': array([0]), 'classes': array([b'0'], dtype=object), 'all_class_ids': array([0, 1], dtype=int32), 'all_classes': array([b'0', b'1'], dtype=object)}, {'logits': array([-0.9904477], dtype=float32), 'logistic': array([0.27082366], dtype=float32), 'probabilities': array([0.72917634, 0.27082366], dtype=float32), 'class_ids': array([0]), 'classes': array([b'0'], dtype=object), 'all_class_ids': array([0, 1], dtype=int32), 'all_classes': array([b'0', b'1'], dtype=object)}, {'logits': array([2.934925], dtype=float32), 'logistic': array([0.94954616], dtype=float32), 'probabilities': array([0.05045385, 0.94954616], dtype=float32), 'class_ids': array([1]), 'classes': array([b'1'], dtype=object), 'all_class_ids': array([0, 1], dtype=int32), 'all_classes': array([b'0', b'1'], dtype=object)}, {'logits': array([0.00800666], dtype=float32), 'logistic': array([0.50200164], dtype=float32), 'probabilities': array([0.49799833, 0.50200164], dtype=float32), 'class_ids': array([1]), 'classes': array([b'1'], dtype=object), 'all_class_ids': array([0, 1], dtype=int32), 'all_classes': array([b'0', b'1'], dtype=object)}, {'logits': array([-1.7061332], dtype=float32), 'logistic': array([0.15366593], dtype=float32), 'probabilities': array([0.84633404, 0.15366592], dtype=float32), 'class_ids': array([0]), 'classes': array([b'0'], dtype=object), 'all_class_ids': array([0, 1], dtype=int32), 'all_classes': array([b'0', b'1'], dtype=object)}, {'logits': array([0.13160345], dtype=float32), 'logistic': array([0.5328534], dtype=float32), 'probabilities': array([0.46714655, 0.5328535 ], dtype=float32), 'class_ids': array([1]), 'classes': array([b'1'], dtype=object), 'all_class_ids': array([0, 1], dtype=int32), 'all_classes': array([b'0', b'1'], dtype=object)}, {'logits': array([1.1733547], dtype=float32), 'logistic': array([0.7637509], dtype=float32), 'probabilities': array([0.23624913, 0.76375085], dtype=float32), 'class_ids': array([1]), 'classes': array([b'1'], dtype=object), 'all_class_ids': array([0, 1], dtype=int32), 'all_classes': array([b'0', b'1'], dtype=object)}, {'logits': array([1.2371575], dtype=float32), 'logistic': array([0.7750688], dtype=float32), 'probabilities': array([0.22493118, 0.7750689 ], dtype=float32), 'class_ids': array([1]), 'classes': array([b'1'], dtype=object), 'all_class_ids': array([0, 1], dtype=int32), 'all_classes': array([b'0', b'1'], dtype=object)}, {'logits': array([-0.96987396], dtype=float32), 'logistic': array([0.27490562], dtype=float32), 'probabilities': array([0.7250944 , 0.27490562], dtype=float32), 'class_ids': array([0]), 'classes': array([b'0'], dtype=object), 'all_class_ids': array([0, 1], dtype=int32), 'all_classes': array([b'0', b'1'], dtype=object)}, {'logits': array([-0.30040035], dtype=float32), 'logistic': array([0.42545962], dtype=float32), 'probabilities': array([0.5745404, 0.4254596], dtype=float32), 'class_ids': array([0]), 'classes': array([b'0'], dtype=object), 'all_class_ids': array([0, 1], dtype=int32), 'all_classes': array([b'0', b'1'], dtype=object)}, {'logits': array([-1.2217637], dtype=float32), 'logistic': array([0.22762622], dtype=float32), 'probabilities': array([0.77237374, 0.2276262 ], dtype=float32), 'class_ids': array([0]), 'classes': array([b'0'], dtype=object), 'all_class_ids': array([0, 1], dtype=int32), 'all_classes': array([b'0', b'1'], dtype=object)}, {'logits': array([-1.608555], dtype=float32), 'logistic': array([0.16678934], dtype=float32), 'probabilities': array([0.8332106 , 0.16678932], dtype=float32), 'class_ids': array([0]), 'classes': array([b'0'], dtype=object), 'all_class_ids': array([0, 1], dtype=int32), 'all_classes': array([b'0', b'1'], dtype=object)}, {'logits': array([1.9403741], dtype=float32), 'logistic': array([0.8743932], dtype=float32), 'probabilities': array([0.12560676, 0.8743933 ], dtype=float32), 'class_ids': array([1]), 'classes': array([b'1'], dtype=object), 'all_class_ids': array([0, 1], dtype=int32), 'all_classes': array([b'0', b'1'], dtype=object)}, {'logits': array([-1.2371207], dtype=float32), 'logistic': array([0.22493756], dtype=float32), 'probabilities': array([0.7750625 , 0.22493757], dtype=float32), 'class_ids': array([0]), 'classes': array([b'0'], dtype=object), 'all_class_ids': array([0, 1], dtype=int32), 'all_classes': array([b'0', b'1'], dtype=object)}, {'logits': array([-1.7393316], dtype=float32), 'logistic': array([0.14939785], dtype=float32), 'probabilities': array([0.85060215, 0.14939785], dtype=float32), 'class_ids': array([0]), 'classes': array([b'0'], dtype=object), 'all_class_ids': array([0, 1], dtype=int32), 'all_classes': array([b'0', b'1'], dtype=object)}, {'logits': array([0.602825], dtype=float32), 'logistic': array([0.6463024], dtype=float32), 'probabilities': array([0.35369766, 0.64630234], dtype=float32), 'class_ids': array([1]), 'classes': array([b'1'], dtype=object), 'all_class_ids': array([0, 1], dtype=int32), 'all_classes': array([b'0', b'1'], dtype=object)}, {'logits': array([1.1720263], dtype=float32), 'logistic': array([0.763511], dtype=float32), 'probabilities': array([0.23648894, 0.7635111 ], dtype=float32), 'class_ids': array([1]), 'classes': array([b'1'], dtype=object), 'all_class_ids': array([0, 1], dtype=int32), 'all_classes': array([b'0', b'1'], dtype=object)}, {'logits': array([-0.62786627], dtype=float32), 'logistic': array([0.3479945], dtype=float32), 'probabilities': array([0.6520055 , 0.34799454], dtype=float32), 'class_ids': array([0]), 'classes': array([b'0'], dtype=object), 'all_class_ids': array([0, 1], dtype=int32), 'all_classes': array([b'0', b'1'], dtype=object)}, {'logits': array([-2.4340258], dtype=float32), 'logistic': array([0.08061459], dtype=float32), 'probabilities': array([0.9193855, 0.0806146], dtype=float32), 'class_ids': array([0]), 'classes': array([b'0'], dtype=object), 'all_class_ids': array([0, 1], dtype=int32), 'all_classes': array([b'0', b'1'], dtype=object)}, {'logits': array([-1.1330345], dtype=float32), 'logistic': array([0.24360153], dtype=float32), 'probabilities': array([0.7563985 , 0.24360155], dtype=float32), 'class_ids': array([0]), 'classes': array([b'0'], dtype=object), 'all_class_ids': array([0, 1], dtype=int32), 'all_classes': array([b'0', b'1'], dtype=object)}, {'logits': array([-1.1435715], dtype=float32), 'logistic': array([0.24166523], dtype=float32), 'probabilities': array([0.7583347 , 0.24166521], dtype=float32), 'class_ids': array([0]), 'classes': array([b'0'], dtype=object), 'all_class_ids': array([0, 1], dtype=int32), 'all_classes': array([b'0', b'1'], dtype=object)}, {'logits': array([-1.8546797], dtype=float32), 'logistic': array([0.13532439], dtype=float32), 'probabilities': array([0.8646756 , 0.13532437], dtype=float32), 'class_ids': array([0]), 'classes': array([b'0'], dtype=object), 'all_class_ids': array([0, 1], dtype=int32), 'all_classes': array([b'0', b'1'], dtype=object)}, {'logits': array([-1.4370024], dtype=float32), 'logistic': array([0.19200997], dtype=float32), 'probabilities': array([0.80798995, 0.19200996], dtype=float32), 'class_ids': array([0]), 'classes': array([b'0'], dtype=object), 'all_class_ids': array([0, 1], dtype=int32), 'all_classes': array([b'0', b'1'], dtype=object)}, {'logits': array([1.848956], dtype=float32), 'logistic': array([0.8640045], dtype=float32), 'probabilities': array([0.1359955, 0.8640044], dtype=float32), 'class_ids': array([1]), 'classes': array([b'1'], dtype=object), 'all_class_ids': array([0, 1], dtype=int32), 'all_classes': array([b'0', b'1'], dtype=object)}, {'logits': array([1.4804646], dtype=float32), 'logistic': array([0.8146427], dtype=float32), 'probabilities': array([0.18535726, 0.8146427 ], dtype=float32), 'class_ids': array([1]), 'classes': array([b'1'], dtype=object), 'all_class_ids': array([0, 1], dtype=int32), 'all_classes': array([b'0', b'1'], dtype=object)}, {'logits': array([-1.730326], dtype=float32), 'logistic': array([0.15054588], dtype=float32), 'probabilities': array([0.849454  , 0.15054585], dtype=float32), 'class_ids': array([0]), 'classes': array([b'0'], dtype=object), 'all_class_ids': array([0, 1], dtype=int32), 'all_classes': array([b'0', b'1'], dtype=object)}, {'logits': array([1.5814127], dtype=float32), 'logistic': array([0.8294045], dtype=float32), 'probabilities': array([0.17059551, 0.82940453], dtype=float32), 'class_ids': array([1]), 'classes': array([b'1'], dtype=object), 'all_class_ids': array([0, 1], dtype=int32), 'all_classes': array([b'0', b'1'], dtype=object)}, {'logits': array([0.2039114], dtype=float32), 'logistic': array([0.55080193], dtype=float32), 'probabilities': array([0.44919807, 0.550802  ], dtype=float32), 'class_ids': array([1]), 'classes': array([b'1'], dtype=object), 'all_class_ids': array([0, 1], dtype=int32), 'all_classes': array([b'0', b'1'], dtype=object)}, {'logits': array([-1.1414173], dtype=float32), 'logistic': array([0.24206023], dtype=float32), 'probabilities': array([0.7579397 , 0.24206021], dtype=float32), 'class_ids': array([0]), 'classes': array([b'0'], dtype=object), 'all_class_ids': array([0, 1], dtype=int32), 'all_classes': array([b'0', b'1'], dtype=object)}, {'logits': array([-1.6736417], dtype=float32), 'logistic': array([0.15793924], dtype=float32), 'probabilities': array([0.8420607 , 0.15793924], dtype=float32), 'class_ids': array([0]), 'classes': array([b'0'], dtype=object), 'all_class_ids': array([0, 1], dtype=int32), 'all_classes': array([b'0', b'1'], dtype=object)}, {'logits': array([-1.034942], dtype=float32), 'logistic': array([0.2621271], dtype=float32), 'probabilities': array([0.7378729, 0.2621271], dtype=float32), 'class_ids': array([0]), 'classes': array([b'0'], dtype=object), 'all_class_ids': array([0, 1], dtype=int32), 'all_classes': array([b'0', b'1'], dtype=object)}, {'logits': array([-1.7153519], dtype=float32), 'logistic': array([0.15247083], dtype=float32), 'probabilities': array([0.8475291 , 0.15247083], dtype=float32), 'class_ids': array([0]), 'classes': array([b'0'], dtype=object), 'all_class_ids': array([0, 1], dtype=int32), 'all_classes': array([b'0', b'1'], dtype=object)}, {'logits': array([1.1737498], dtype=float32), 'logistic': array([0.7638221], dtype=float32), 'probabilities': array([0.23617786, 0.7638222 ], dtype=float32), 'class_ids': array([1]), 'classes': array([b'1'], dtype=object), 'all_class_ids': array([0, 1], dtype=int32), 'all_classes': array([b'0', b'1'], dtype=object)}, {'logits': array([-1.7976772], dtype=float32), 'logistic': array([0.14213407], dtype=float32), 'probabilities': array([0.857866  , 0.14213407], dtype=float32), 'class_ids': array([0]), 'classes': array([b'0'], dtype=object), 'all_class_ids': array([0, 1], dtype=int32), 'all_classes': array([b'0', b'1'], dtype=object)}, {'logits': array([0.71447194], dtype=float32), 'logistic': array([0.67138857], dtype=float32), 'probabilities': array([0.3286115 , 0.67138857], dtype=float32), 'class_ids': array([1]), 'classes': array([b'1'], dtype=object), 'all_class_ids': array([0, 1], dtype=int32), 'all_classes': array([b'0', b'1'], dtype=object)}, {'logits': array([-0.07694122], dtype=float32), 'logistic': array([0.48077416], dtype=float32), 'probabilities': array([0.51922584, 0.4807742 ], dtype=float32), 'class_ids': array([0]), 'classes': array([b'0'], dtype=object), 'all_class_ids': array([0, 1], dtype=int32), 'all_classes': array([b'0', b'1'], dtype=object)}, {'logits': array([-1.7772425], dtype=float32), 'logistic': array([0.14464395], dtype=float32), 'probabilities': array([0.85535604, 0.14464396], dtype=float32), 'class_ids': array([0]), 'classes': array([b'0'], dtype=object), 'all_class_ids': array([0, 1], dtype=int32), 'all_classes': array([b'0', b'1'], dtype=object)}, {'logits': array([-1.6577791], dtype=float32), 'logistic': array([0.16006035], dtype=float32), 'probabilities': array([0.83993965, 0.16006035], dtype=float32), 'class_ids': array([0]), 'classes': array([b'0'], dtype=object), 'all_class_ids': array([0, 1], dtype=int32), 'all_classes': array([b'0', b'1'], dtype=object)}, {'logits': array([1.6722963], dtype=float32), 'logistic': array([0.84188175], dtype=float32), 'probabilities': array([0.15811826, 0.8418817 ], dtype=float32), 'class_ids': array([1]), 'classes': array([b'1'], dtype=object), 'all_class_ids': array([0, 1], dtype=int32), 'all_classes': array([b'0', b'1'], dtype=object)}, {'logits': array([-0.10619798], dtype=float32), 'logistic': array([0.47347543], dtype=float32), 'probabilities': array([0.52652454, 0.47347543], dtype=float32), 'class_ids': array([0]), 'classes': array([b'0'], dtype=object), 'all_class_ids': array([0, 1], dtype=int32), 'all_classes': array([b'0', b'1'], dtype=object)}, {'logits': array([-1.5276271], dtype=float32), 'logistic': array([0.17834114], dtype=float32), 'probabilities': array([0.8216589 , 0.17834114], dtype=float32), 'class_ids': array([0]), 'classes': array([b'0'], dtype=object), 'all_class_ids': array([0, 1], dtype=int32), 'all_classes': array([b'0', b'1'], dtype=object)}, {'logits': array([-0.76041067], dtype=float32), 'logistic': array([0.31855708], dtype=float32), 'probabilities': array([0.68144286, 0.31855708], dtype=float32), 'class_ids': array([0]), 'classes': array([b'0'], dtype=object), 'all_class_ids': array([0, 1], dtype=int32), 'all_classes': array([b'0', b'1'], dtype=object)}, {'logits': array([-0.9338346], dtype=float32), 'logistic': array([0.2821474], dtype=float32), 'probabilities': array([0.71785253, 0.28214738], dtype=float32), 'class_ids': array([0]), 'classes': array([b'0'], dtype=object), 'all_class_ids': array([0, 1], dtype=int32), 'all_classes': array([b'0', b'1'], dtype=object)}, {'logits': array([2.2018788], dtype=float32), 'logistic': array([0.9004181], dtype=float32), 'probabilities': array([0.0995819, 0.9004181], dtype=float32), 'class_ids': array([1]), 'classes': array([b'1'], dtype=object), 'all_class_ids': array([0, 1], dtype=int32), 'all_classes': array([b'0', b'1'], dtype=object)}, {'logits': array([1.9110693], dtype=float32), 'logistic': array([0.8711392], dtype=float32), 'probabilities': array([0.12886076, 0.87113917], dtype=float32), 'class_ids': array([1]), 'classes': array([b'1'], dtype=object), 'all_class_ids': array([0, 1], dtype=int32), 'all_classes': array([b'0', b'1'], dtype=object)}, {'logits': array([-1.6878668], dtype=float32), 'logistic': array([0.15605658], dtype=float32), 'probabilities': array([0.8439434 , 0.15605658], dtype=float32), 'class_ids': array([0]), 'classes': array([b'0'], dtype=object), 'all_class_ids': array([0, 1], dtype=int32), 'all_classes': array([b'0', b'1'], dtype=object)}, {'logits': array([1.1589078], dtype=float32), 'logistic': array([0.7611342], dtype=float32), 'probabilities': array([0.23886581, 0.7611342 ], dtype=float32), 'class_ids': array([1]), 'classes': array([b'1'], dtype=object), 'all_class_ids': array([0, 1], dtype=int32), 'all_classes': array([b'0', b'1'], dtype=object)}, {'logits': array([-1.7426215], dtype=float32), 'logistic': array([0.14898026], dtype=float32), 'probabilities': array([0.85101974, 0.14898026], dtype=float32), 'class_ids': array([0]), 'classes': array([b'0'], dtype=object), 'all_class_ids': array([0, 1], dtype=int32), 'all_classes': array([b'0', b'1'], dtype=object)}, {'logits': array([-1.1507803], dtype=float32), 'logistic': array([0.2403466], dtype=float32), 'probabilities': array([0.7596534 , 0.24034658], dtype=float32), 'class_ids': array([0]), 'classes': array([b'0'], dtype=object), 'all_class_ids': array([0, 1], dtype=int32), 'all_classes': array([b'0', b'1'], dtype=object)}, {'logits': array([1.5099034], dtype=float32), 'logistic': array([0.8190469], dtype=float32), 'probabilities': array([0.18095309, 0.81904685], dtype=float32), 'class_ids': array([1]), 'classes': array([b'1'], dtype=object), 'all_class_ids': array([0, 1], dtype=int32), 'all_classes': array([b'0', b'1'], dtype=object)}, {'logits': array([-1.5098275], dtype=float32), 'logistic': array([0.18096435], dtype=float32), 'probabilities': array([0.81903565, 0.18096437], dtype=float32), 'class_ids': array([0]), 'classes': array([b'0'], dtype=object), 'all_class_ids': array([0, 1], dtype=int32), 'all_classes': array([b'0', b'1'], dtype=object)}, {'logits': array([1.524511], dtype=float32), 'logistic': array([0.8212018], dtype=float32), 'probabilities': array([0.17879821, 0.82120174], dtype=float32), 'class_ids': array([1]), 'classes': array([b'1'], dtype=object), 'all_class_ids': array([0, 1], dtype=int32), 'all_classes': array([b'0', b'1'], dtype=object)}, {'logits': array([1.6215081], dtype=float32), 'logistic': array([0.835003], dtype=float32), 'probabilities': array([0.16499698, 0.83500296], dtype=float32), 'class_ids': array([1]), 'classes': array([b'1'], dtype=object), 'all_class_ids': array([0, 1], dtype=int32), 'all_classes': array([b'0', b'1'], dtype=object)}, {'logits': array([-1.7388424], dtype=float32), 'logistic': array([0.14946003], dtype=float32), 'probabilities': array([0.85054   , 0.14946003], dtype=float32), 'class_ids': array([0]), 'classes': array([b'0'], dtype=object), 'all_class_ids': array([0, 1], dtype=int32), 'all_classes': array([b'0', b'1'], dtype=object)}, {'logits': array([0.98508257], dtype=float32), 'logistic': array([0.72811556], dtype=float32), 'probabilities': array([0.27188447, 0.72811556], dtype=float32), 'class_ids': array([1]), 'classes': array([b'1'], dtype=object), 'all_class_ids': array([0, 1], dtype=int32), 'all_classes': array([b'0', b'1'], dtype=object)}, {'logits': array([-2.104163], dtype=float32), 'logistic': array([0.10869286], dtype=float32), 'probabilities': array([0.89130706, 0.10869285], dtype=float32), 'class_ids': array([0]), 'classes': array([b'0'], dtype=object), 'all_class_ids': array([0, 1], dtype=int32), 'all_classes': array([b'0', b'1'], dtype=object)}, {'logits': array([-1.0735394], dtype=float32), 'logistic': array([0.25473058], dtype=float32), 'probabilities': array([0.74526936, 0.25473055], dtype=float32), 'class_ids': array([0]), 'classes': array([b'0'], dtype=object), 'all_class_ids': array([0, 1], dtype=int32), 'all_classes': array([b'0', b'1'], dtype=object)}, {'logits': array([-1.7494882], dtype=float32), 'logistic': array([0.14811176], dtype=float32), 'probabilities': array([0.85188824, 0.14811176], dtype=float32), 'class_ids': array([0]), 'classes': array([b'0'], dtype=object), 'all_class_ids': array([0, 1], dtype=int32), 'all_classes': array([b'0', b'1'], dtype=object)}, {'logits': array([0.9838796], dtype=float32), 'logistic': array([0.7278773], dtype=float32), 'probabilities': array([0.27212265, 0.7278773 ], dtype=float32), 'class_ids': array([1]), 'classes': array([b'1'], dtype=object), 'all_class_ids': array([0, 1], dtype=int32), 'all_classes': array([b'0', b'1'], dtype=object)}, {'logits': array([0.12055728], dtype=float32), 'logistic': array([0.5301029], dtype=float32), 'probabilities': array([0.4698971 , 0.53010285], dtype=float32), 'class_ids': array([1]), 'classes': array([b'1'], dtype=object), 'all_class_ids': array([0, 1], dtype=int32), 'all_classes': array([b'0', b'1'], dtype=object)}, {'logits': array([-1.8418707], dtype=float32), 'logistic': array([0.13683021], dtype=float32), 'probabilities': array([0.8631698, 0.1368302], dtype=float32), 'class_ids': array([0]), 'classes': array([b'0'], dtype=object), 'all_class_ids': array([0, 1], dtype=int32), 'all_classes': array([b'0', b'1'], dtype=object)}, {'logits': array([-0.62820274], dtype=float32), 'logistic': array([0.34791818], dtype=float32), 'probabilities': array([0.6520818 , 0.34791818], dtype=float32), 'class_ids': array([0]), 'classes': array([b'0'], dtype=object), 'all_class_ids': array([0, 1], dtype=int32), 'all_classes': array([b'0', b'1'], dtype=object)}, {'logits': array([1.7990928], dtype=float32), 'logistic': array([0.8580385], dtype=float32), 'probabilities': array([0.14196154, 0.8580385 ], dtype=float32), 'class_ids': array([1]), 'classes': array([b'1'], dtype=object), 'all_class_ids': array([0, 1], dtype=int32), 'all_classes': array([b'0', b'1'], dtype=object)}, {'logits': array([-0.6303626], dtype=float32), 'logistic': array([0.34742835], dtype=float32), 'probabilities': array([0.65257174, 0.34742838], dtype=float32), 'class_ids': array([0]), 'classes': array([b'0'], dtype=object), 'all_class_ids': array([0, 1], dtype=int32), 'all_classes': array([b'0', b'1'], dtype=object)}, {'logits': array([2.289031], dtype=float32), 'logistic': array([0.9079645], dtype=float32), 'probabilities': array([0.09203549, 0.9079645 ], dtype=float32), 'class_ids': array([1]), 'classes': array([b'1'], dtype=object), 'all_class_ids': array([0, 1], dtype=int32), 'all_classes': array([b'0', b'1'], dtype=object)}, {'logits': array([-0.77966875], dtype=float32), 'logistic': array([0.3143913], dtype=float32), 'probabilities': array([0.68560874, 0.3143913 ], dtype=float32), 'class_ids': array([0]), 'classes': array([b'0'], dtype=object), 'all_class_ids': array([0, 1], dtype=int32), 'all_classes': array([b'0', b'1'], dtype=object)}, {'logits': array([-1.992431], dtype=float32), 'logistic': array([0.11999992], dtype=float32), 'probabilities': array([0.88000005, 0.11999991], dtype=float32), 'class_ids': array([0]), 'classes': array([b'0'], dtype=object), 'all_class_ids': array([0, 1], dtype=int32), 'all_classes': array([b'0', b'1'], dtype=object)}, {'logits': array([-1.7121743], dtype=float32), 'logistic': array([0.15288192], dtype=float32), 'probabilities': array([0.8471181 , 0.15288192], dtype=float32), 'class_ids': array([0]), 'classes': array([b'0'], dtype=object), 'all_class_ids': array([0, 1], dtype=int32), 'all_classes': array([b'0', b'1'], dtype=object)}, {'logits': array([-1.697606], dtype=float32), 'logistic': array([0.1547782], dtype=float32), 'probabilities': array([0.8452217 , 0.15477818], dtype=float32), 'class_ids': array([0]), 'classes': array([b'0'], dtype=object), 'all_class_ids': array([0, 1], dtype=int32), 'all_classes': array([b'0', b'1'], dtype=object)}, {'logits': array([-2.030954], dtype=float32), 'logistic': array([0.11599107], dtype=float32), 'probabilities': array([0.8840089 , 0.11599107], dtype=float32), 'class_ids': array([0]), 'classes': array([b'0'], dtype=object), 'all_class_ids': array([0, 1], dtype=int32), 'all_classes': array([b'0', b'1'], dtype=object)}, {'logits': array([1.6944666], dtype=float32), 'logistic': array([0.84481066], dtype=float32), 'probabilities': array([0.15518935, 0.84481066], dtype=float32), 'class_ids': array([1]), 'classes': array([b'1'], dtype=object), 'all_class_ids': array([0, 1], dtype=int32), 'all_classes': array([b'0', b'1'], dtype=object)}, {'logits': array([1.550505], dtype=float32), 'logistic': array([0.82498664], dtype=float32), 'probabilities': array([0.17501335, 0.8249867 ], dtype=float32), 'class_ids': array([1]), 'classes': array([b'1'], dtype=object), 'all_class_ids': array([0, 1], dtype=int32), 'all_classes': array([b'0', b'1'], dtype=object)}, {'logits': array([-1.1507984], dtype=float32), 'logistic': array([0.24034326], dtype=float32), 'probabilities': array([0.75965667, 0.24034326], dtype=float32), 'class_ids': array([0]), 'classes': array([b'0'], dtype=object), 'all_class_ids': array([0, 1], dtype=int32), 'all_classes': array([b'0', b'1'], dtype=object)}, {'logits': array([-0.9345456], dtype=float32), 'logistic': array([0.2820034], dtype=float32), 'probabilities': array([0.71799654, 0.2820034 ], dtype=float32), 'class_ids': array([0]), 'classes': array([b'0'], dtype=object), 'all_class_ids': array([0, 1], dtype=int32), 'all_classes': array([b'0', b'1'], dtype=object)}, {'logits': array([2.5058696], dtype=float32), 'logistic': array([0.92455226], dtype=float32), 'probabilities': array([0.07544772, 0.9245522 ], dtype=float32), 'class_ids': array([1]), 'classes': array([b'1'], dtype=object), 'all_class_ids': array([0, 1], dtype=int32), 'all_classes': array([b'0', b'1'], dtype=object)}, {'logits': array([-0.24360421], dtype=float32), 'logistic': array([0.43939835], dtype=float32), 'probabilities': array([0.56060165, 0.43939835], dtype=float32), 'class_ids': array([0]), 'classes': array([b'0'], dtype=object), 'all_class_ids': array([0, 1], dtype=int32), 'all_classes': array([b'0', b'1'], dtype=object)}, {'logits': array([-1.7662827], dtype=float32), 'logistic': array([0.14600523], dtype=float32), 'probabilities': array([0.85399485, 0.14600524], dtype=float32), 'class_ids': array([0]), 'classes': array([b'0'], dtype=object), 'all_class_ids': array([0, 1], dtype=int32), 'all_classes': array([b'0', b'1'], dtype=object)}, {'logits': array([2.1488247], dtype=float32), 'logistic': array([0.8955589], dtype=float32), 'probabilities': array([0.10444111, 0.8955589 ], dtype=float32), 'class_ids': array([1]), 'classes': array([b'1'], dtype=object), 'all_class_ids': array([0, 1], dtype=int32), 'all_classes': array([b'0', b'1'], dtype=object)}, {'logits': array([1.5655234], dtype=float32), 'logistic': array([0.8271445], dtype=float32), 'probabilities': array([0.1728555 , 0.82714444], dtype=float32), 'class_ids': array([1]), 'classes': array([b'1'], dtype=object), 'all_class_ids': array([0, 1], dtype=int32), 'all_classes': array([b'0', b'1'], dtype=object)}, {'logits': array([-1.7889472], dtype=float32), 'logistic': array([0.14320184], dtype=float32), 'probabilities': array([0.8567981 , 0.14320183], dtype=float32), 'class_ids': array([0]), 'classes': array([b'0'], dtype=object), 'all_class_ids': array([0, 1], dtype=int32), 'all_classes': array([b'0', b'1'], dtype=object)}, {'logits': array([0.6530066], dtype=float32), 'logistic': array([0.65768766], dtype=float32), 'probabilities': array([0.34231228, 0.65768766], dtype=float32), 'class_ids': array([1]), 'classes': array([b'1'], dtype=object), 'all_class_ids': array([0, 1], dtype=int32), 'all_classes': array([b'0', b'1'], dtype=object)}, {'logits': array([-0.9935351], dtype=float32), 'logistic': array([0.27021438], dtype=float32), 'probabilities': array([0.72978556, 0.27021438], dtype=float32), 'class_ids': array([0]), 'classes': array([b'0'], dtype=object), 'all_class_ids': array([0, 1], dtype=int32), 'all_classes': array([b'0', b'1'], dtype=object)}, {'logits': array([-0.0479174], dtype=float32), 'logistic': array([0.48802292], dtype=float32), 'probabilities': array([0.5119771 , 0.48802295], dtype=float32), 'class_ids': array([0]), 'classes': array([b'0'], dtype=object), 'all_class_ids': array([0, 1], dtype=int32), 'all_classes': array([b'0', b'1'], dtype=object)}]\n",
            "[0.85832435 0.14167558]\n"
          ]
        }
      ]
    },
    {
      "cell_type": "markdown",
      "source": [
        "# **MOVING TO CLASSIFICATION**\n"
      ],
      "metadata": {
        "id": "s3NIuPQW5Fgf"
      }
    },
    {
      "cell_type": "code",
      "source": [
        "CSV_COLUMN_NAMES = ['SepalLength', 'SepalWidth', 'PetalLength', 'PetalWidth', 'Species']\n",
        "SPECIES = ['Setosa', 'Versicolor', 'Virginica']\n",
        "train_path = tf.keras.utils.get_file(\n",
        "    \"iris_training.csv\", \"https://storage.googleapis.com/download.tensorflow.org/data/iris_training.csv\")\n",
        "test_path = tf.keras.utils.get_file(\n",
        "    \"iris_test.csv\", \"https://storage.googleapis.com/download.tensorflow.org/data/iris_test.csv\")\n",
        "\n",
        "train = pd.read_csv(train_path, names=CSV_COLUMN_NAMES, header=0)\n",
        "test = pd.read_csv(test_path, names=CSV_COLUMN_NAMES, header=0)"
      ],
      "metadata": {
        "id": "bAgk4Tlx5IR7"
      },
      "execution_count": 26,
      "outputs": []
    },
    {
      "cell_type": "code",
      "source": [
        "train.head()\n",
        "train_y = train.pop('Species')\n",
        "test_y = test.pop('Species')\n",
        "train.head()\n",
        "train.shape\n"
      ],
      "metadata": {
        "colab": {
          "base_uri": "https://localhost:8080/"
        },
        "id": "3_-tibVF5noC",
        "outputId": "0706411d-d7de-4fe6-e7a3-743e3c022c72"
      },
      "execution_count": 27,
      "outputs": [
        {
          "output_type": "execute_result",
          "data": {
            "text/plain": [
              "(120, 4)"
            ]
          },
          "metadata": {},
          "execution_count": 27
        }
      ]
    },
    {
      "cell_type": "code",
      "source": [
        "def input_fn(features, labels, training=True, batch_size=256):\n",
        "    # Convert the inputs to a Dataset.\n",
        "    dataset = tf.data.Dataset.from_tensor_slices((dict(features), labels))\n",
        "\n",
        "    # Shuffle and repeat if you are in training mode.\n",
        "    if training:\n",
        "        dataset = dataset.shuffle(1000).repeat()\n",
        "\n",
        "    return dataset.batch(batch_size)"
      ],
      "metadata": {
        "id": "w3vYvpio52Ug"
      },
      "execution_count": 28,
      "outputs": []
    },
    {
      "cell_type": "code",
      "source": [
        "my_feature_columns = []\n",
        "for key in train.keys():\n",
        "    my_feature_columns.append(tf.feature_column.numeric_column(key=key))\n",
        "print(my_feature_columns)"
      ],
      "metadata": {
        "colab": {
          "base_uri": "https://localhost:8080/"
        },
        "id": "jPkLsMEj56V2",
        "outputId": "af040de3-6172-405e-f3a1-ff393da37bc7"
      },
      "execution_count": 31,
      "outputs": [
        {
          "output_type": "stream",
          "name": "stderr",
          "text": [
            "WARNING:tensorflow:From <ipython-input-31-ac840b081260>:3: numeric_column (from tensorflow.python.feature_column.feature_column_v2) is deprecated and will be removed in a future version.\n",
            "Instructions for updating:\n",
            "Use Keras preprocessing layers instead, either directly or via the `tf.keras.utils.FeatureSpace` utility. Each of `tf.feature_column.*` has a functional equivalent in `tf.keras.layers` for feature preprocessing when training a Keras model.\n"
          ]
        },
        {
          "output_type": "stream",
          "name": "stdout",
          "text": [
            "[NumericColumn(key='SepalLength', shape=(1,), default_value=None, dtype=tf.float32, normalizer_fn=None), NumericColumn(key='SepalWidth', shape=(1,), default_value=None, dtype=tf.float32, normalizer_fn=None), NumericColumn(key='PetalLength', shape=(1,), default_value=None, dtype=tf.float32, normalizer_fn=None), NumericColumn(key='PetalWidth', shape=(1,), default_value=None, dtype=tf.float32, normalizer_fn=None)]\n"
          ]
        }
      ]
    },
    {
      "cell_type": "markdown",
      "source": [
        "For classification tasks there are variety of different estimators/models that we can pick from. Some options are listed below.\n",
        "- DNNClassifier (Deep Neural Network):\n",
        "1. **Input Layer:** Takes input features \\(\\mathbf{x}\\).\n",
        "2. **Hidden Layers:** Multiple layers of neurons, each performing:\n",
        "$$h^{(l)} = \\sigma(\\mathbf{W}^{(l)} h^{(l-1)} + \\mathbf{b}^{(l)})$$$$h^{(l)} = \\sigma(\\mathbf{W}^{(l)} h^{(l-1)} + \\mathbf{b}^{(l)})$$\n",
        "\n",
        "\n",
        "\n",
        "   where:\n",
        "    $$\n",
        "\n",
        "-   $$(h^{(l)}) \\text{ is the output of the} (l^{th}) \\text{hidden layer.}$$  \n",
        "\n",
        "-   $$(\\mathbf{W}^{(l)}) \\text{ is the weight matrix for the} (l^{th}) \\text{hidden layer.}$$\n",
        "-   $$(\\mathbf{h}^{(l-1)})  \\text{ is the output of the previous hidden layer (or the input layer for the first hidden layer).} $$\n",
        "-  $$(\\mathbf{b}^{(l)}) \\text{is the bias vector for the } (l^{th}) \\text{ hidden layer.}$$\n",
        "- sigma is the activation function.  $$\n",
        "  $$\n",
        "3. **Output Layer:** Produces the final predictions:\n",
        "   $$[ \\hat{\\mathbf{y}} = \\text{softmax}(\\mathbf{W}^{(L)} \\mathbf{h}^{(L-1)} + \\mathbf{b}^{(L)}) ]$$\n",
        "   for multi-class classification, where \\(L\\) is the last layer.\n",
        "**Loss Function:**\n",
        "$$[ J(\\mathbf{W}, \\mathbf{b}) = -\\frac{1}{m} \\sum_{i=1}^{m} \\sum_{c=1}^{C} y_{i,c} \\log(\\hat{y}_{i,c}) ]$$\n",
        "where \\(C\\) is the number of classes, \\(m\\) is the number of examples, and $$(\\hat{y}_{i,c})$$ is the predicted probability for class \\(c\\).\n",
        "\n",
        "- LinearClassifier\n",
        "the decision boundary as a linear combination of input features.\n",
        "$$[ \\hat{y} = \\text{softmax}(\\mathbf{W}^\\top \\mathbf{x} + \\mathbf{b}) ]$$\n",
        "for multi-class classification.\n",
        "\n",
        "- $$(\\mathbf{W}) \\text{ is the weight matrix }.$$\n",
        "- $$(\\mathbf{b}) $$\n",
        "- $$(\\mathbf{x}) \\text{ is the input feature vector. }$$\n",
        "\n",
        "**Loss Function:**\n",
        "For multi-class classification, the cross-entropy loss is used:\n",
        "$$[ J(\\mathbf{W}, \\mathbf{b}) = -\\frac{1}{m} \\sum_{i=1}^{m} \\sum_{c=1}^{C} y_{i,c} \\log(\\hat{y}_{i,c}) ]$$\n",
        "We can choose either model but the DNN seems to be the best choice. This is because we may not be able to find a linear coorespondence in our data.\n"
      ],
      "metadata": {
        "id": "4SOwBoPn5_N3"
      }
    },
    {
      "cell_type": "code",
      "source": [
        "# Build a DNN with 2 hidden layers with 30 and 10 hidden nodes each.\n",
        "classifier = tf.estimator.DNNClassifier(\n",
        "    feature_columns=my_feature_columns,\n",
        "    # Two hidden layers of 30 and 10 nodes respectively.\n",
        "    hidden_units=[30, 10],\n",
        "    # The model must choose between 3 classes.\n",
        "    n_classes=3)"
      ],
      "metadata": {
        "colab": {
          "base_uri": "https://localhost:8080/"
        },
        "id": "TMkduBq55-lu",
        "outputId": "f291105b-890b-49b3-b47d-5f1fc1202b35"
      },
      "execution_count": 35,
      "outputs": [
        {
          "output_type": "stream",
          "name": "stderr",
          "text": [
            "WARNING:tensorflow:Using temporary folder as model directory: /tmp/tmp0eyah2w0\n"
          ]
        }
      ]
    },
    {
      "cell_type": "code",
      "source": [
        "# labda to make func inside func as before so inp become an object\n",
        "classifier.train(\n",
        "    input_fn=lambda: input_fn(train, train_y, training=True),\n",
        "    steps=5000)"
      ],
      "metadata": {
        "colab": {
          "base_uri": "https://localhost:8080/"
        },
        "id": "pyIKHOcyC7I5",
        "outputId": "2c0ff940-6923-4c26-b0a5-d6cbca24a40e"
      },
      "execution_count": 38,
      "outputs": [
        {
          "output_type": "stream",
          "name": "stderr",
          "text": [
            "WARNING:tensorflow:From /usr/local/lib/python3.10/dist-packages/tensorflow/python/training/saver.py:1176: get_checkpoint_mtimes (from tensorflow.python.checkpoint.checkpoint_management) is deprecated and will be removed in a future version.\n",
            "Instructions for updating:\n",
            "Use standard file utilities to get mtimes.\n"
          ]
        },
        {
          "output_type": "execute_result",
          "data": {
            "text/plain": [
              "<tensorflow_estimator.python.estimator.canned.dnn.DNNClassifierV2 at 0x7b1ff278ee00>"
            ]
          },
          "metadata": {},
          "execution_count": 38
        }
      ]
    },
    {
      "cell_type": "code",
      "source": [
        "eval_result = classifier.evaluate(\n",
        "    input_fn=lambda: input_fn(test, test_y, training=False))\n",
        "\n",
        "print('\\nTest set accuracy: {accuracy:0.3f}\\n'.format(**eval_result))"
      ],
      "metadata": {
        "colab": {
          "base_uri": "https://localhost:8080/"
        },
        "id": "tMzr_z2GKsUm",
        "outputId": "8c4e62fd-8f2b-4824-83f3-6a52384d95b2"
      },
      "execution_count": 39,
      "outputs": [
        {
          "output_type": "stream",
          "name": "stdout",
          "text": [
            "\n",
            "Test set accuracy: 0.933\n",
            "\n"
          ]
        }
      ]
    },
    {
      "cell_type": "code",
      "source": [
        "def input_fn(features, batch_size=256):\n",
        "    # Convert the inputs to a Dataset without labels.\n",
        "    return tf.data.Dataset.from_tensor_slices(dict(features)).batch(batch_size)\n",
        "\n",
        "features = ['SepalLength', 'SepalWidth', 'PetalLength', 'PetalWidth']\n",
        "predict = {}\n",
        "\n",
        "print(\"Please type numeric values as prompted.\")\n",
        "for feature in features:\n",
        "  valid = True\n",
        "  while valid:\n",
        "    val = input(feature + \": \")\n",
        "    if not val.isdigit(): valid = False\n",
        "\n",
        "  predict[feature] = [float(val)]\n",
        "\n",
        "predictions = classifier.predict(input_fn=lambda: input_fn(predict))\n",
        "for pred_dict in predictions:\n",
        "    class_id = pred_dict['class_ids'][0]\n",
        "    probability = pred_dict['probabilities'][class_id]\n",
        "\n",
        "    print('Prediction is \"{}\" ({:.1f}%)'.format(\n",
        "        SPECIES[class_id], 100 * probability))\n",
        "expected = ['Setosa', 'Versicolor', 'Virginica']\n",
        "predict_x = {\n",
        "    'SepalLength': [5.1, 5.9, 6.9],\n",
        "    'SepalWidth': [3.3, 3.0, 3.1],\n",
        "    'PetalLength': [1.7, 4.2, 5.4],\n",
        "    'PetalWidth': [0.5, 1.5, 2.1],\n",
        "}"
      ],
      "metadata": {
        "colab": {
          "base_uri": "https://localhost:8080/"
        },
        "id": "JAZvU7RZKxYe",
        "outputId": "9d673ce9-17e8-4b6d-e926-02d89a2e7912"
      },
      "execution_count": 40,
      "outputs": [
        {
          "name": "stdout",
          "output_type": "stream",
          "text": [
            "Please type numeric values as prompted.\n",
            "SepalLength: 4.8\n",
            "SepalWidth: 3.2\n",
            "PetalLength: 1.7\n",
            "PetalWidth: 1.7\n"
          ]
        },
        {
          "output_type": "stream",
          "name": "stderr",
          "text": [
            "WARNING:tensorflow:From /usr/local/lib/python3.10/dist-packages/tensorflow_estimator/python/estimator/head/base_head.py:786: ClassificationOutput.__init__ (from tensorflow.python.saved_model.model_utils.export_output) is deprecated and will be removed in a future version.\n",
            "Instructions for updating:\n",
            "Use tf.keras instead.\n",
            "WARNING:tensorflow:From /usr/local/lib/python3.10/dist-packages/tensorflow_estimator/python/estimator/head/multi_class_head.py:455: PredictOutput.__init__ (from tensorflow.python.saved_model.model_utils.export_output) is deprecated and will be removed in a future version.\n",
            "Instructions for updating:\n",
            "Use tf.keras instead.\n"
          ]
        },
        {
          "output_type": "stream",
          "name": "stdout",
          "text": [
            "Prediction is \"Versicolor\" (41.0%)\n"
          ]
        }
      ]
    },
    {
      "cell_type": "code",
      "source": [
        "%tensorflow_version 2.x\n",
        "!pip install tensorflow_probability==0.8.0rc0 --user --upgrade\n",
        "import tensorflow_probability as tfp\n",
        "import tensorflow as tf"
      ],
      "metadata": {
        "colab": {
          "base_uri": "https://localhost:8080/"
        },
        "id": "6pcG4gJ2ubn6",
        "outputId": "6560b104-5da9-4c9d-f85c-fda757db3c29"
      },
      "execution_count": 1,
      "outputs": [
        {
          "output_type": "stream",
          "name": "stdout",
          "text": [
            "Colab only includes TensorFlow 2.x; %tensorflow_version has no effect.\n",
            "Collecting tensorflow_probability==0.8.0rc0\n",
            "  Downloading tensorflow_probability-0.8.0rc0-py2.py3-none-any.whl (2.5 MB)\n",
            "\u001b[2K     \u001b[90m━━━━━━━━━━━━━━━━━━━━━━━━━━━━━━━━━━━━━━━━\u001b[0m \u001b[32m2.5/2.5 MB\u001b[0m \u001b[31m8.5 MB/s\u001b[0m eta \u001b[36m0:00:00\u001b[0m\n",
            "\u001b[?25hRequirement already satisfied: six>=1.10.0 in /usr/local/lib/python3.10/dist-packages (from tensorflow_probability==0.8.0rc0) (1.16.0)\n",
            "Requirement already satisfied: numpy>=1.13.3 in /usr/local/lib/python3.10/dist-packages (from tensorflow_probability==0.8.0rc0) (1.25.2)\n",
            "Requirement already satisfied: decorator in /usr/local/lib/python3.10/dist-packages (from tensorflow_probability==0.8.0rc0) (4.4.2)\n",
            "Collecting cloudpickle==1.1.1 (from tensorflow_probability==0.8.0rc0)\n",
            "  Downloading cloudpickle-1.1.1-py2.py3-none-any.whl (17 kB)\n",
            "Installing collected packages: cloudpickle, tensorflow_probability\n",
            "\u001b[31mERROR: pip's dependency resolver does not currently take into account all the packages that are installed. This behaviour is the source of the following dependency conflicts.\n",
            "bigframes 1.8.0 requires cloudpickle>=2.0.0, but you have cloudpickle 1.1.1 which is incompatible.\n",
            "dask 2023.8.1 requires cloudpickle>=1.5.0, but you have cloudpickle 1.1.1 which is incompatible.\n",
            "distributed 2023.8.1 requires cloudpickle>=1.5.0, but you have cloudpickle 1.1.1 which is incompatible.\n",
            "dopamine-rl 4.0.9 requires tensorflow-probability>=0.13.0, but you have tensorflow-probability 0.8.0rc0 which is incompatible.\n",
            "gym 0.25.2 requires cloudpickle>=1.2.0, but you have cloudpickle 1.1.1 which is incompatible.\u001b[0m\u001b[31m\n",
            "\u001b[0mSuccessfully installed cloudpickle-1.1.1 tensorflow_probability-0.8.0rc0\n"
          ]
        }
      ]
    },
    {
      "cell_type": "markdown",
      "source": [
        "\n",
        "\n",
        "1.   Cold days are encoded by a 0 and hot days are encoded by a 1.\n",
        "2.   The first day in our sequence has an 80% chance of being cold.\n",
        "3. A cold day has a 30% chance of being followed by a hot day.\n",
        "4. A hot day has a 20% chance of being followed by a cold day.\n",
        "5. On each day the temperature is normally distributed with mean and standard deviation 0 and 5 on a cold day and mean and standard deviation 15 and 10 on a hot day."
      ],
      "metadata": {
        "id": "1X45jQHKurki"
      }
    },
    {
      "cell_type": "code",
      "source": [
        "tfd = tfp.distributions\n",
        "initial_distribution = tfd.Categorical(probs=[0.2, 0.8])  # Refer to point 2 above\n",
        "transition_distribution = tfd.Categorical(probs=[[0.5, 0.5],\n",
        "                                                 [0.2, 0.8]])  # refer to points 3 and 4 above\n",
        "observation_distribution = tfd.Normal(loc=[0., 15.], scale=[5., 10.])  # refer to point 5 above\n"
      ],
      "metadata": {
        "id": "1J9GyYIdulez"
      },
      "execution_count": 2,
      "outputs": []
    },
    {
      "cell_type": "markdown",
      "source": [],
      "metadata": {
        "id": "jqmTw0AfvJLL"
      }
    },
    {
      "cell_type": "code",
      "source": [
        "#The number of steps represents the number of days that we would like to predict information for. In this case we've chosen 7, an entire week.\n",
        "model = tfd.HiddenMarkovModel(\n",
        "    initial_distribution=initial_distribution,\n",
        "    transition_distribution=transition_distribution,\n",
        "    observation_distribution=observation_distribution,\n",
        "    num_steps=7)"
      ],
      "metadata": {
        "id": "TZsJIFvrvFPJ"
      },
      "execution_count": 4,
      "outputs": []
    },
    {
      "cell_type": "code",
      "source": [
        "mean = model.mean()\n",
        "\n",
        "# due to the way TensorFlow works on a lower level we need to evaluate part of the graph\n",
        "# from within a session to see the value of this tensor\n",
        "\n",
        "# in the new version of tensorflow we need to use tf.compat.v1.Session() rather than just tf.Session()\n",
        "with tf.compat.v1.Session() as sess:\n",
        "  print(mean.numpy())"
      ],
      "metadata": {
        "colab": {
          "base_uri": "https://localhost:8080/"
        },
        "id": "nB8enhRovMqm",
        "outputId": "5c08592d-e8ad-4fd1-a03a-aaf386597d99"
      },
      "execution_count": 5,
      "outputs": [
        {
          "output_type": "stream",
          "name": "stdout",
          "text": [
            "[11.999999 11.1      10.830001 10.748999 10.724699 10.71741  10.715222]\n"
          ]
        }
      ]
    },
    {
      "cell_type": "markdown",
      "source": [
        "##Sources\n",
        "\n",
        "1. Chen, James. “Line Of Best Fit.” Investopedia, Investopedia, 29 Jan. 2020, www.investopedia.com/terms/l/line-of-best-fit.asp.\n",
        "2. “Tf.feature_column.categorical_column_with_vocabulary_list.” TensorFlow, www.tensorflow.org/api_docs/python/tf/feature_column/categorical_column_with_vocabulary_list?version=stable.\n",
        "3. “Build a Linear Model with Estimators &nbsp;: &nbsp; TensorFlow Core.” TensorFlow, www.tensorflow.org/tutorials/estimator/linear.\n",
        "4. Staff, EasyBib. “The Free Automatic Bibliography Composer.” EasyBib, Chegg, 1 Jan. 2020, www.easybib.com/project/style/mla8?id=1582473656_5e52a1b8c84d52.80301186.\n",
        "5. Seif, George. “The 5 Clustering Algorithms Data Scientists Need to Know.” Medium, Towards Data Science, 14 Sept. 2019, https://towardsdatascience.com/the-5-clustering-algorithms-data-scientists-need-to-know-a36d136ef68.\n",
        "6. Definition of Hidden Markov Model, http://jedlik.phy.bme.hu/~gerjanos/HMM/node4.html.\n",
        "7. “Tfp.distributions.HiddenMarkovModel &nbsp;: &nbsp; TensorFlow Probability.” TensorFlow, www.tensorflow.org/probability/api_docs/python/tfp/distributions/HiddenMarkovModel."
      ],
      "metadata": {
        "id": "1Zh0FSeRvd0D"
      }
    }
  ]
}